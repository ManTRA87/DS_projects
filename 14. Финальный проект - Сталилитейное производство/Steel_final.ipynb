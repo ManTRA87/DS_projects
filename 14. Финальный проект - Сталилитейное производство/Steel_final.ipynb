{
 "cells": [
  {
   "cell_type": "markdown",
   "metadata": {
    "id": "f_b-biUyTW6z"
   },
   "source": [
    "## Оптимизация производственных расходов\n",
    "\n",
    "Чтобы оптимизировать производственные расходы, металлургический комбинат ООО «Так закаляем сталь» решил уменьшить потребление электроэнергии на этапе обработки стали. Необходимо построить модель, которая предскажет температуру стали.\n",
    "\n",
    "### Описание этапа обработки\n",
    "\n",
    "Сталь обрабатывают в металлическом ковше вместимостью около 100 тонн. Чтобы ковш выдерживал высокие температуры, изнутри его облицовывают огнеупорным кирпичом. Расплавленную сталь заливают в ковш и подогревают до нужной температуры графитовыми электродами. Они установлены в крышке ковша. \n",
    "\n",
    "Из сплава выводится сера (десульфурация), добавлением примесей корректируется химический состав и отбираются пробы. Сталь легируют — изменяют её состав — подавая куски сплава из бункера для сыпучих материалов или проволоку через специальный трайб-аппарат (англ. tribe, «масса»).\n",
    "\n",
    "Перед тем как первый раз ввести легирующие добавки, измеряют температуру стали и производят её химический анализ. Потом температуру на несколько минут повышают, добавляют легирующие материалы и продувают сплав инертным газом. Затем его перемешивают и снова проводят измерения. Такой цикл повторяется до достижения целевого химического состава и оптимальной температуры плавки.\n",
    "\n",
    "Тогда расплавленная сталь отправляется на доводку металла или поступает в машину непрерывной разливки. Оттуда готовый продукт выходит в виде заготовок-слябов (англ. *slab*, «плита»).\n",
    "\n",
    "### Описание данных\n",
    "\n",
    "Данные состоят из файлов, полученных из разных источников:\n",
    "\n",
    "- `data_arc.csv` — данные об электродах;\n",
    "- `data_bulk.csv` — данные о подаче сыпучих материалов (объём);\n",
    "- `data_bulk_time.csv` *—* данные о подаче сыпучих материалов (время);\n",
    "- `data_gas.csv` — данные о продувке сплава газом;\n",
    "- `data_temp.csv` — результаты измерения температуры;\n",
    "- `data_wire.csv` — данные о проволочных материалах (объём);\n",
    "- `data_wire_time.csv` — данные о проволочных материалах (время).\n",
    "\n",
    "Во всех файлах столбец `key` содержит номер партии. В файлах может быть несколько строк с одинаковым значением `key`: они соответствуют разным итерациям обработки."
   ]
  },
  {
   "cell_type": "markdown",
   "metadata": {
    "id": "teUAg77H5nnk"
   },
   "source": [
    "## Загрузка данных"
   ]
  },
  {
   "cell_type": "code",
   "execution_count": 520,
   "metadata": {
    "colab": {
     "base_uri": "https://localhost:8080/"
    },
    "executionInfo": {
     "elapsed": 8602,
     "status": "ok",
     "timestamp": 1637657154638,
     "user": {
      "displayName": "LIZA FOX",
      "photoUrl": "https://lh3.googleusercontent.com/a-/AOh14GiROuqSKlugDuMLD2zosy5BB_CwYcn4VtpUBQP5=s64",
      "userId": "17049926938416427493"
     },
     "user_tz": -300
    },
    "id": "BOydWKCTgm2X",
    "outputId": "ef57243d-1164-4b5d-dc87-d280ea61130b"
   },
   "outputs": [
    {
     "name": "stdout",
     "output_type": "stream",
     "text": [
      "Downloading...\n",
      "From: https://drive.google.com/uc?id=1SU-0z4ZmcxyoDuBYSRHLa7s3Vv-wP3KU\n",
      "To: /content/data_arc.csv\n",
      "100% 1.10M/1.10M [00:00<00:00, 28.5MB/s]\n",
      "Downloading...\n",
      "From: https://drive.google.com/uc?id=1AsH70SJ4t1RnvQTs6yVFDfTIy_jisEW2\n",
      "To: /content/data_bulk_time.csv\n",
      "100% 274k/274k [00:00<00:00, 38.8MB/s]\n",
      "Downloading...\n",
      "From: https://drive.google.com/uc?id=15zQDRCP12dFznRzZ6f0xErxAlDF3kFtz\n",
      "To: /content/data_bulk.csv\n",
      "100% 115k/115k [00:00<00:00, 42.1MB/s]\n",
      "Downloading...\n",
      "From: https://drive.google.com/uc?id=1aQVSb1KYFVzIywoXxFxROqkC3UmszX6r\n",
      "To: /content/data_gas.csv\n",
      "100% 63.8k/63.8k [00:00<00:00, 49.7MB/s]\n",
      "Downloading...\n",
      "From: https://drive.google.com/uc?id=18W09IksnjAznhfPUeya88Bj-cU3zcB8f\n",
      "To: /content/data_temp.csv\n",
      "100% 486k/486k [00:00<00:00, 64.5MB/s]\n",
      "Downloading...\n",
      "From: https://drive.google.com/uc?id=1UGDh2Z292GXITUVVorQOqv2727OyQjmT\n",
      "To: /content/data_wire_time.csv\n",
      "100% 125k/125k [00:00<00:00, 37.6MB/s]\n",
      "Downloading...\n",
      "From: https://drive.google.com/uc?id=11TV2E0ed7lzNx5F3yjgIpdPFJM0ZD1VW\n",
      "To: /content/data_wire.csv\n",
      "100% 91.5k/91.5k [00:00<00:00, 33.6MB/s]\n"
     ]
    }
   ],
   "source": [
    "!gdown --id 1SU-0z4ZmcxyoDuBYSRHLa7s3Vv-wP3KU\n",
    "!gdown --id 1AsH70SJ4t1RnvQTs6yVFDfTIy_jisEW2\n",
    "!gdown --id 15zQDRCP12dFznRzZ6f0xErxAlDF3kFtz\n",
    "!gdown --id 1aQVSb1KYFVzIywoXxFxROqkC3UmszX6r\n",
    "!gdown --id 18W09IksnjAznhfPUeya88Bj-cU3zcB8f\n",
    "!gdown --id 1UGDh2Z292GXITUVVorQOqv2727OyQjmT\n",
    "!gdown --id 11TV2E0ed7lzNx5F3yjgIpdPFJM0ZD1VW"
   ]
  },
  {
   "cell_type": "code",
   "execution_count": 521,
   "metadata": {
    "colab": {
     "base_uri": "https://localhost:8080/"
    },
    "executionInfo": {
     "elapsed": 3271,
     "status": "ok",
     "timestamp": 1637657157890,
     "user": {
      "displayName": "LIZA FOX",
      "photoUrl": "https://lh3.googleusercontent.com/a-/AOh14GiROuqSKlugDuMLD2zosy5BB_CwYcn4VtpUBQP5=s64",
      "userId": "17049926938416427493"
     },
     "user_tz": -300
    },
    "id": "uhyt2V1rbYbk",
    "outputId": "60216a35-4fa8-44d7-d6d5-05ddec3f7063"
   },
   "outputs": [
    {
     "name": "stdout",
     "output_type": "stream",
     "text": [
      "Requirement already satisfied: catboost in /usr/local/lib/python3.7/dist-packages (1.0.3)\n",
      "Requirement already satisfied: matplotlib in /usr/local/lib/python3.7/dist-packages (from catboost) (3.2.2)\n",
      "Requirement already satisfied: scipy in /usr/local/lib/python3.7/dist-packages (from catboost) (1.4.1)\n",
      "Requirement already satisfied: graphviz in /usr/local/lib/python3.7/dist-packages (from catboost) (0.10.1)\n",
      "Requirement already satisfied: plotly in /usr/local/lib/python3.7/dist-packages (from catboost) (4.4.1)\n",
      "Requirement already satisfied: pandas>=0.24.0 in /usr/local/lib/python3.7/dist-packages (from catboost) (1.1.5)\n",
      "Requirement already satisfied: numpy>=1.16.0 in /usr/local/lib/python3.7/dist-packages (from catboost) (1.19.5)\n",
      "Requirement already satisfied: six in /usr/local/lib/python3.7/dist-packages (from catboost) (1.15.0)\n",
      "Requirement already satisfied: python-dateutil>=2.7.3 in /usr/local/lib/python3.7/dist-packages (from pandas>=0.24.0->catboost) (2.8.2)\n",
      "Requirement already satisfied: pytz>=2017.2 in /usr/local/lib/python3.7/dist-packages (from pandas>=0.24.0->catboost) (2018.9)\n",
      "Requirement already satisfied: kiwisolver>=1.0.1 in /usr/local/lib/python3.7/dist-packages (from matplotlib->catboost) (1.3.2)\n",
      "Requirement already satisfied: pyparsing!=2.0.4,!=2.1.2,!=2.1.6,>=2.0.1 in /usr/local/lib/python3.7/dist-packages (from matplotlib->catboost) (3.0.6)\n",
      "Requirement already satisfied: cycler>=0.10 in /usr/local/lib/python3.7/dist-packages (from matplotlib->catboost) (0.11.0)\n",
      "Requirement already satisfied: retrying>=1.3.3 in /usr/local/lib/python3.7/dist-packages (from plotly->catboost) (1.3.3)\n"
     ]
    }
   ],
   "source": [
    "pip install catboost"
   ]
  },
  {
   "cell_type": "code",
   "execution_count": 522,
   "metadata": {
    "executionInfo": {
     "elapsed": 80,
     "status": "ok",
     "timestamp": 1637657157892,
     "user": {
      "displayName": "LIZA FOX",
      "photoUrl": "https://lh3.googleusercontent.com/a-/AOh14GiROuqSKlugDuMLD2zosy5BB_CwYcn4VtpUBQP5=s64",
      "userId": "17049926938416427493"
     },
     "user_tz": -300
    },
    "id": "zviueWoegcyI"
   },
   "outputs": [],
   "source": [
    "import pandas as pd\n",
    "import numpy as np\n",
    "import matplotlib.pyplot as plt\n",
    "import seaborn as sns\n",
    "from datetime import timedelta\n",
    "from sklearn.metrics import mean_absolute_error\n",
    "from catboost import Pool, CatBoostRegressor, cv\n",
    "from sklearn.model_selection import train_test_split\n",
    "from sklearn.preprocessing import StandardScaler\n",
    "from sklearn.metrics import mean_absolute_error\n",
    "from sklearn.linear_model import LinearRegression\n",
    "from sklearn.tree import DecisionTreeRegressor\n",
    "from sklearn.ensemble import RandomForestRegressor\n",
    "from sklearn.model_selection import cross_val_score\n",
    "from sklearn.metrics import make_scorer\n",
    "from sklearn.model_selection import GridSearchCV\n",
    "from lightgbm import LGBMRegressor\n",
    "from sklearn.model_selection import RandomizedSearchCV\n",
    "from sklearn.dummy import DummyRegressor"
   ]
  },
  {
   "cell_type": "code",
   "execution_count": 523,
   "metadata": {
    "executionInfo": {
     "elapsed": 80,
     "status": "ok",
     "timestamp": 1637657157893,
     "user": {
      "displayName": "LIZA FOX",
      "photoUrl": "https://lh3.googleusercontent.com/a-/AOh14GiROuqSKlugDuMLD2zosy5BB_CwYcn4VtpUBQP5=s64",
      "userId": "17049926938416427493"
     },
     "user_tz": -300
    },
    "id": "XAZl1RrvlwNI"
   },
   "outputs": [],
   "source": [
    "data_arc = pd.read_csv('/content/data_arc.csv')\n",
    "data_bulk = pd.read_csv('/content/data_bulk.csv')\n",
    "data_bulk_time = pd.read_csv('/content/data_bulk_time.csv')\n",
    "data_gas = pd.read_csv('/content/data_gas.csv')\n",
    "data_temp = pd.read_csv('/content/data_temp.csv')\n",
    "data_wire = pd.read_csv('/content/data_wire.csv')\n",
    "data_wire_time = pd.read_csv('/content/data_wire_time.csv')"
   ]
  },
  {
   "cell_type": "markdown",
   "metadata": {
    "id": "UW-3Rfcq5tmv"
   },
   "source": [
    "## Просмотр данных"
   ]
  },
  {
   "cell_type": "markdown",
   "metadata": {
    "id": "I1Xt4SEBUNGG"
   },
   "source": [
    "### Просмотр табличной информации"
   ]
  },
  {
   "cell_type": "code",
   "execution_count": 524,
   "metadata": {
    "colab": {
     "base_uri": "https://localhost:8080/",
     "height": 204
    },
    "executionInfo": {
     "elapsed": 80,
     "status": "ok",
     "timestamp": 1637657157894,
     "user": {
      "displayName": "LIZA FOX",
      "photoUrl": "https://lh3.googleusercontent.com/a-/AOh14GiROuqSKlugDuMLD2zosy5BB_CwYcn4VtpUBQP5=s64",
      "userId": "17049926938416427493"
     },
     "user_tz": -300
    },
    "id": "hrgXzORdrFZD",
    "outputId": "7c859a38-d81b-4743-fe84-8632605ba17d"
   },
   "outputs": [
    {
     "data": {
      "text/html": [
       "<div>\n",
       "<style scoped>\n",
       "    .dataframe tbody tr th:only-of-type {\n",
       "        vertical-align: middle;\n",
       "    }\n",
       "\n",
       "    .dataframe tbody tr th {\n",
       "        vertical-align: top;\n",
       "    }\n",
       "\n",
       "    .dataframe thead th {\n",
       "        text-align: right;\n",
       "    }\n",
       "</style>\n",
       "<table border=\"1\" class=\"dataframe\">\n",
       "  <thead>\n",
       "    <tr style=\"text-align: right;\">\n",
       "      <th></th>\n",
       "      <th>key</th>\n",
       "      <th>Начало нагрева дугой</th>\n",
       "      <th>Конец нагрева дугой</th>\n",
       "      <th>Активная мощность</th>\n",
       "      <th>Реактивная мощность</th>\n",
       "    </tr>\n",
       "  </thead>\n",
       "  <tbody>\n",
       "    <tr>\n",
       "      <th>0</th>\n",
       "      <td>1</td>\n",
       "      <td>2019-05-03 11:02:14</td>\n",
       "      <td>2019-05-03 11:06:02</td>\n",
       "      <td>0.976059</td>\n",
       "      <td>0.687084</td>\n",
       "    </tr>\n",
       "    <tr>\n",
       "      <th>1</th>\n",
       "      <td>1</td>\n",
       "      <td>2019-05-03 11:07:28</td>\n",
       "      <td>2019-05-03 11:10:33</td>\n",
       "      <td>0.805607</td>\n",
       "      <td>0.520285</td>\n",
       "    </tr>\n",
       "    <tr>\n",
       "      <th>2</th>\n",
       "      <td>1</td>\n",
       "      <td>2019-05-03 11:11:44</td>\n",
       "      <td>2019-05-03 11:14:36</td>\n",
       "      <td>0.744363</td>\n",
       "      <td>0.498805</td>\n",
       "    </tr>\n",
       "    <tr>\n",
       "      <th>3</th>\n",
       "      <td>1</td>\n",
       "      <td>2019-05-03 11:18:14</td>\n",
       "      <td>2019-05-03 11:24:19</td>\n",
       "      <td>1.659363</td>\n",
       "      <td>1.062669</td>\n",
       "    </tr>\n",
       "    <tr>\n",
       "      <th>4</th>\n",
       "      <td>1</td>\n",
       "      <td>2019-05-03 11:26:09</td>\n",
       "      <td>2019-05-03 11:28:37</td>\n",
       "      <td>0.692755</td>\n",
       "      <td>0.414397</td>\n",
       "    </tr>\n",
       "  </tbody>\n",
       "</table>\n",
       "</div>"
      ],
      "text/plain": [
       "   key Начало нагрева дугой  ... Активная мощность  Реактивная мощность\n",
       "0    1  2019-05-03 11:02:14  ...          0.976059             0.687084\n",
       "1    1  2019-05-03 11:07:28  ...          0.805607             0.520285\n",
       "2    1  2019-05-03 11:11:44  ...          0.744363             0.498805\n",
       "3    1  2019-05-03 11:18:14  ...          1.659363             1.062669\n",
       "4    1  2019-05-03 11:26:09  ...          0.692755             0.414397\n",
       "\n",
       "[5 rows x 5 columns]"
      ]
     },
     "execution_count": 524,
     "metadata": {},
     "output_type": "execute_result"
    }
   ],
   "source": [
    "data_arc.head()"
   ]
  },
  {
   "cell_type": "markdown",
   "metadata": {
    "id": "mfa2sxAFuSxU"
   },
   "source": [
    "Из данных, представленных в таблице, видим продолжительность воздействия на сплав электродами для ее нагрева, а также потребляемую мощность."
   ]
  },
  {
   "cell_type": "code",
   "execution_count": 525,
   "metadata": {
    "colab": {
     "base_uri": "https://localhost:8080/",
     "height": 204
    },
    "executionInfo": {
     "elapsed": 79,
     "status": "ok",
     "timestamp": 1637657157895,
     "user": {
      "displayName": "LIZA FOX",
      "photoUrl": "https://lh3.googleusercontent.com/a-/AOh14GiROuqSKlugDuMLD2zosy5BB_CwYcn4VtpUBQP5=s64",
      "userId": "17049926938416427493"
     },
     "user_tz": -300
    },
    "id": "taM-fQkwrIhi",
    "outputId": "11155885-c6c1-49ac-dd57-ee6ec738d3da"
   },
   "outputs": [
    {
     "data": {
      "text/html": [
       "<div>\n",
       "<style scoped>\n",
       "    .dataframe tbody tr th:only-of-type {\n",
       "        vertical-align: middle;\n",
       "    }\n",
       "\n",
       "    .dataframe tbody tr th {\n",
       "        vertical-align: top;\n",
       "    }\n",
       "\n",
       "    .dataframe thead th {\n",
       "        text-align: right;\n",
       "    }\n",
       "</style>\n",
       "<table border=\"1\" class=\"dataframe\">\n",
       "  <thead>\n",
       "    <tr style=\"text-align: right;\">\n",
       "      <th></th>\n",
       "      <th>key</th>\n",
       "      <th>Bulk 1</th>\n",
       "      <th>Bulk 2</th>\n",
       "      <th>Bulk 3</th>\n",
       "      <th>Bulk 4</th>\n",
       "      <th>Bulk 5</th>\n",
       "      <th>Bulk 6</th>\n",
       "      <th>Bulk 7</th>\n",
       "      <th>Bulk 8</th>\n",
       "      <th>Bulk 9</th>\n",
       "      <th>Bulk 10</th>\n",
       "      <th>Bulk 11</th>\n",
       "      <th>Bulk 12</th>\n",
       "      <th>Bulk 13</th>\n",
       "      <th>Bulk 14</th>\n",
       "      <th>Bulk 15</th>\n",
       "    </tr>\n",
       "  </thead>\n",
       "  <tbody>\n",
       "    <tr>\n",
       "      <th>0</th>\n",
       "      <td>1</td>\n",
       "      <td>NaN</td>\n",
       "      <td>NaN</td>\n",
       "      <td>NaN</td>\n",
       "      <td>43.0</td>\n",
       "      <td>NaN</td>\n",
       "      <td>NaN</td>\n",
       "      <td>NaN</td>\n",
       "      <td>NaN</td>\n",
       "      <td>NaN</td>\n",
       "      <td>NaN</td>\n",
       "      <td>NaN</td>\n",
       "      <td>206.0</td>\n",
       "      <td>NaN</td>\n",
       "      <td>150.0</td>\n",
       "      <td>154.0</td>\n",
       "    </tr>\n",
       "    <tr>\n",
       "      <th>1</th>\n",
       "      <td>2</td>\n",
       "      <td>NaN</td>\n",
       "      <td>NaN</td>\n",
       "      <td>NaN</td>\n",
       "      <td>73.0</td>\n",
       "      <td>NaN</td>\n",
       "      <td>NaN</td>\n",
       "      <td>NaN</td>\n",
       "      <td>NaN</td>\n",
       "      <td>NaN</td>\n",
       "      <td>NaN</td>\n",
       "      <td>NaN</td>\n",
       "      <td>206.0</td>\n",
       "      <td>NaN</td>\n",
       "      <td>149.0</td>\n",
       "      <td>154.0</td>\n",
       "    </tr>\n",
       "    <tr>\n",
       "      <th>2</th>\n",
       "      <td>3</td>\n",
       "      <td>NaN</td>\n",
       "      <td>NaN</td>\n",
       "      <td>NaN</td>\n",
       "      <td>34.0</td>\n",
       "      <td>NaN</td>\n",
       "      <td>NaN</td>\n",
       "      <td>NaN</td>\n",
       "      <td>NaN</td>\n",
       "      <td>NaN</td>\n",
       "      <td>NaN</td>\n",
       "      <td>NaN</td>\n",
       "      <td>205.0</td>\n",
       "      <td>NaN</td>\n",
       "      <td>152.0</td>\n",
       "      <td>153.0</td>\n",
       "    </tr>\n",
       "    <tr>\n",
       "      <th>3</th>\n",
       "      <td>4</td>\n",
       "      <td>NaN</td>\n",
       "      <td>NaN</td>\n",
       "      <td>NaN</td>\n",
       "      <td>81.0</td>\n",
       "      <td>NaN</td>\n",
       "      <td>NaN</td>\n",
       "      <td>NaN</td>\n",
       "      <td>NaN</td>\n",
       "      <td>NaN</td>\n",
       "      <td>NaN</td>\n",
       "      <td>NaN</td>\n",
       "      <td>207.0</td>\n",
       "      <td>NaN</td>\n",
       "      <td>153.0</td>\n",
       "      <td>154.0</td>\n",
       "    </tr>\n",
       "    <tr>\n",
       "      <th>4</th>\n",
       "      <td>5</td>\n",
       "      <td>NaN</td>\n",
       "      <td>NaN</td>\n",
       "      <td>NaN</td>\n",
       "      <td>78.0</td>\n",
       "      <td>NaN</td>\n",
       "      <td>NaN</td>\n",
       "      <td>NaN</td>\n",
       "      <td>NaN</td>\n",
       "      <td>NaN</td>\n",
       "      <td>NaN</td>\n",
       "      <td>NaN</td>\n",
       "      <td>203.0</td>\n",
       "      <td>NaN</td>\n",
       "      <td>151.0</td>\n",
       "      <td>152.0</td>\n",
       "    </tr>\n",
       "  </tbody>\n",
       "</table>\n",
       "</div>"
      ],
      "text/plain": [
       "   key  Bulk 1  Bulk 2  Bulk 3  ...  Bulk 12  Bulk 13  Bulk 14  Bulk 15\n",
       "0    1     NaN     NaN     NaN  ...    206.0      NaN    150.0    154.0\n",
       "1    2     NaN     NaN     NaN  ...    206.0      NaN    149.0    154.0\n",
       "2    3     NaN     NaN     NaN  ...    205.0      NaN    152.0    153.0\n",
       "3    4     NaN     NaN     NaN  ...    207.0      NaN    153.0    154.0\n",
       "4    5     NaN     NaN     NaN  ...    203.0      NaN    151.0    152.0\n",
       "\n",
       "[5 rows x 16 columns]"
      ]
     },
     "execution_count": 525,
     "metadata": {},
     "output_type": "execute_result"
    }
   ],
   "source": [
    "data_bulk.head()"
   ]
  },
  {
   "cell_type": "markdown",
   "metadata": {
    "id": "smNCCr_Cskjw"
   },
   "source": [
    "Из таблицы видно, что для конкретной партии подается определенная категория сыпучего материала в определенном объеме. В процессе производства задействованы не все категории сыпучих материалов."
   ]
  },
  {
   "cell_type": "code",
   "execution_count": 526,
   "metadata": {
    "colab": {
     "base_uri": "https://localhost:8080/",
     "height": 306
    },
    "executionInfo": {
     "elapsed": 78,
     "status": "ok",
     "timestamp": 1637657157896,
     "user": {
      "displayName": "LIZA FOX",
      "photoUrl": "https://lh3.googleusercontent.com/a-/AOh14GiROuqSKlugDuMLD2zosy5BB_CwYcn4VtpUBQP5=s64",
      "userId": "17049926938416427493"
     },
     "user_tz": -300
    },
    "id": "Pmjb7LWQrMIu",
    "outputId": "34fba0d5-61a5-4877-d37b-1dc4412af9b1"
   },
   "outputs": [
    {
     "data": {
      "text/html": [
       "<div>\n",
       "<style scoped>\n",
       "    .dataframe tbody tr th:only-of-type {\n",
       "        vertical-align: middle;\n",
       "    }\n",
       "\n",
       "    .dataframe tbody tr th {\n",
       "        vertical-align: top;\n",
       "    }\n",
       "\n",
       "    .dataframe thead th {\n",
       "        text-align: right;\n",
       "    }\n",
       "</style>\n",
       "<table border=\"1\" class=\"dataframe\">\n",
       "  <thead>\n",
       "    <tr style=\"text-align: right;\">\n",
       "      <th></th>\n",
       "      <th>key</th>\n",
       "      <th>Bulk 1</th>\n",
       "      <th>Bulk 2</th>\n",
       "      <th>Bulk 3</th>\n",
       "      <th>Bulk 4</th>\n",
       "      <th>Bulk 5</th>\n",
       "      <th>Bulk 6</th>\n",
       "      <th>Bulk 7</th>\n",
       "      <th>Bulk 8</th>\n",
       "      <th>Bulk 9</th>\n",
       "      <th>Bulk 10</th>\n",
       "      <th>Bulk 11</th>\n",
       "      <th>Bulk 12</th>\n",
       "      <th>Bulk 13</th>\n",
       "      <th>Bulk 14</th>\n",
       "      <th>Bulk 15</th>\n",
       "    </tr>\n",
       "  </thead>\n",
       "  <tbody>\n",
       "    <tr>\n",
       "      <th>0</th>\n",
       "      <td>1</td>\n",
       "      <td>NaN</td>\n",
       "      <td>NaN</td>\n",
       "      <td>NaN</td>\n",
       "      <td>2019-05-03 11:21:30</td>\n",
       "      <td>NaN</td>\n",
       "      <td>NaN</td>\n",
       "      <td>NaN</td>\n",
       "      <td>NaN</td>\n",
       "      <td>NaN</td>\n",
       "      <td>NaN</td>\n",
       "      <td>NaN</td>\n",
       "      <td>2019-05-03 11:03:52</td>\n",
       "      <td>NaN</td>\n",
       "      <td>2019-05-03 11:03:52</td>\n",
       "      <td>2019-05-03 11:03:52</td>\n",
       "    </tr>\n",
       "    <tr>\n",
       "      <th>1</th>\n",
       "      <td>2</td>\n",
       "      <td>NaN</td>\n",
       "      <td>NaN</td>\n",
       "      <td>NaN</td>\n",
       "      <td>2019-05-03 11:46:38</td>\n",
       "      <td>NaN</td>\n",
       "      <td>NaN</td>\n",
       "      <td>NaN</td>\n",
       "      <td>NaN</td>\n",
       "      <td>NaN</td>\n",
       "      <td>NaN</td>\n",
       "      <td>NaN</td>\n",
       "      <td>2019-05-03 11:40:20</td>\n",
       "      <td>NaN</td>\n",
       "      <td>2019-05-03 11:40:20</td>\n",
       "      <td>2019-05-03 11:40:20</td>\n",
       "    </tr>\n",
       "    <tr>\n",
       "      <th>2</th>\n",
       "      <td>3</td>\n",
       "      <td>NaN</td>\n",
       "      <td>NaN</td>\n",
       "      <td>NaN</td>\n",
       "      <td>2019-05-03 12:31:06</td>\n",
       "      <td>NaN</td>\n",
       "      <td>NaN</td>\n",
       "      <td>NaN</td>\n",
       "      <td>NaN</td>\n",
       "      <td>NaN</td>\n",
       "      <td>NaN</td>\n",
       "      <td>NaN</td>\n",
       "      <td>2019-05-03 12:09:40</td>\n",
       "      <td>NaN</td>\n",
       "      <td>2019-05-03 12:09:40</td>\n",
       "      <td>2019-05-03 12:09:40</td>\n",
       "    </tr>\n",
       "    <tr>\n",
       "      <th>3</th>\n",
       "      <td>4</td>\n",
       "      <td>NaN</td>\n",
       "      <td>NaN</td>\n",
       "      <td>NaN</td>\n",
       "      <td>2019-05-03 12:48:43</td>\n",
       "      <td>NaN</td>\n",
       "      <td>NaN</td>\n",
       "      <td>NaN</td>\n",
       "      <td>NaN</td>\n",
       "      <td>NaN</td>\n",
       "      <td>NaN</td>\n",
       "      <td>NaN</td>\n",
       "      <td>2019-05-03 12:41:24</td>\n",
       "      <td>NaN</td>\n",
       "      <td>2019-05-03 12:41:24</td>\n",
       "      <td>2019-05-03 12:41:24</td>\n",
       "    </tr>\n",
       "    <tr>\n",
       "      <th>4</th>\n",
       "      <td>5</td>\n",
       "      <td>NaN</td>\n",
       "      <td>NaN</td>\n",
       "      <td>NaN</td>\n",
       "      <td>2019-05-03 13:18:50</td>\n",
       "      <td>NaN</td>\n",
       "      <td>NaN</td>\n",
       "      <td>NaN</td>\n",
       "      <td>NaN</td>\n",
       "      <td>NaN</td>\n",
       "      <td>NaN</td>\n",
       "      <td>NaN</td>\n",
       "      <td>2019-05-03 13:12:56</td>\n",
       "      <td>NaN</td>\n",
       "      <td>2019-05-03 13:12:56</td>\n",
       "      <td>2019-05-03 13:12:56</td>\n",
       "    </tr>\n",
       "  </tbody>\n",
       "</table>\n",
       "</div>"
      ],
      "text/plain": [
       "   key Bulk 1 Bulk 2  ... Bulk 13              Bulk 14              Bulk 15\n",
       "0    1    NaN    NaN  ...     NaN  2019-05-03 11:03:52  2019-05-03 11:03:52\n",
       "1    2    NaN    NaN  ...     NaN  2019-05-03 11:40:20  2019-05-03 11:40:20\n",
       "2    3    NaN    NaN  ...     NaN  2019-05-03 12:09:40  2019-05-03 12:09:40\n",
       "3    4    NaN    NaN  ...     NaN  2019-05-03 12:41:24  2019-05-03 12:41:24\n",
       "4    5    NaN    NaN  ...     NaN  2019-05-03 13:12:56  2019-05-03 13:12:56\n",
       "\n",
       "[5 rows x 16 columns]"
      ]
     },
     "execution_count": 526,
     "metadata": {},
     "output_type": "execute_result"
    }
   ],
   "source": [
    "data_bulk_time.head()"
   ]
  },
  {
   "cell_type": "markdown",
   "metadata": {
    "id": "OwaunqqvtFr4"
   },
   "source": [
    "Фиксируется время подачи сыпучего материала. Из таблицы видно, что некоторые сыпучие материалы подавались одновременно."
   ]
  },
  {
   "cell_type": "code",
   "execution_count": 527,
   "metadata": {
    "colab": {
     "base_uri": "https://localhost:8080/",
     "height": 204
    },
    "executionInfo": {
     "elapsed": 76,
     "status": "ok",
     "timestamp": 1637657157896,
     "user": {
      "displayName": "LIZA FOX",
      "photoUrl": "https://lh3.googleusercontent.com/a-/AOh14GiROuqSKlugDuMLD2zosy5BB_CwYcn4VtpUBQP5=s64",
      "userId": "17049926938416427493"
     },
     "user_tz": -300
    },
    "id": "eK77G-tnrQDS",
    "outputId": "95439bb7-a9e9-4fea-ef43-b2a66e977a8a"
   },
   "outputs": [
    {
     "data": {
      "text/html": [
       "<div>\n",
       "<style scoped>\n",
       "    .dataframe tbody tr th:only-of-type {\n",
       "        vertical-align: middle;\n",
       "    }\n",
       "\n",
       "    .dataframe tbody tr th {\n",
       "        vertical-align: top;\n",
       "    }\n",
       "\n",
       "    .dataframe thead th {\n",
       "        text-align: right;\n",
       "    }\n",
       "</style>\n",
       "<table border=\"1\" class=\"dataframe\">\n",
       "  <thead>\n",
       "    <tr style=\"text-align: right;\">\n",
       "      <th></th>\n",
       "      <th>key</th>\n",
       "      <th>Газ 1</th>\n",
       "    </tr>\n",
       "  </thead>\n",
       "  <tbody>\n",
       "    <tr>\n",
       "      <th>0</th>\n",
       "      <td>1</td>\n",
       "      <td>29.749986</td>\n",
       "    </tr>\n",
       "    <tr>\n",
       "      <th>1</th>\n",
       "      <td>2</td>\n",
       "      <td>12.555561</td>\n",
       "    </tr>\n",
       "    <tr>\n",
       "      <th>2</th>\n",
       "      <td>3</td>\n",
       "      <td>28.554793</td>\n",
       "    </tr>\n",
       "    <tr>\n",
       "      <th>3</th>\n",
       "      <td>4</td>\n",
       "      <td>18.841219</td>\n",
       "    </tr>\n",
       "    <tr>\n",
       "      <th>4</th>\n",
       "      <td>5</td>\n",
       "      <td>5.413692</td>\n",
       "    </tr>\n",
       "  </tbody>\n",
       "</table>\n",
       "</div>"
      ],
      "text/plain": [
       "   key      Газ 1\n",
       "0    1  29.749986\n",
       "1    2  12.555561\n",
       "2    3  28.554793\n",
       "3    4  18.841219\n",
       "4    5   5.413692"
      ]
     },
     "execution_count": 527,
     "metadata": {},
     "output_type": "execute_result"
    }
   ],
   "source": [
    "data_gas.head()"
   ]
  },
  {
   "cell_type": "markdown",
   "metadata": {
    "id": "ZqUVLpZguE9u"
   },
   "source": [
    "Из таблицы видим объем инертного газа, который потребовался для производства определенной партии стали."
   ]
  },
  {
   "cell_type": "code",
   "execution_count": 528,
   "metadata": {
    "colab": {
     "base_uri": "https://localhost:8080/",
     "height": 204
    },
    "executionInfo": {
     "elapsed": 75,
     "status": "ok",
     "timestamp": 1637657157897,
     "user": {
      "displayName": "LIZA FOX",
      "photoUrl": "https://lh3.googleusercontent.com/a-/AOh14GiROuqSKlugDuMLD2zosy5BB_CwYcn4VtpUBQP5=s64",
      "userId": "17049926938416427493"
     },
     "user_tz": -300
    },
    "id": "FI5Gg-wLrWxZ",
    "outputId": "a6b307cf-5377-4262-80a8-0244d1bfe522"
   },
   "outputs": [
    {
     "data": {
      "text/html": [
       "<div>\n",
       "<style scoped>\n",
       "    .dataframe tbody tr th:only-of-type {\n",
       "        vertical-align: middle;\n",
       "    }\n",
       "\n",
       "    .dataframe tbody tr th {\n",
       "        vertical-align: top;\n",
       "    }\n",
       "\n",
       "    .dataframe thead th {\n",
       "        text-align: right;\n",
       "    }\n",
       "</style>\n",
       "<table border=\"1\" class=\"dataframe\">\n",
       "  <thead>\n",
       "    <tr style=\"text-align: right;\">\n",
       "      <th></th>\n",
       "      <th>key</th>\n",
       "      <th>Время замера</th>\n",
       "      <th>Температура</th>\n",
       "    </tr>\n",
       "  </thead>\n",
       "  <tbody>\n",
       "    <tr>\n",
       "      <th>0</th>\n",
       "      <td>1</td>\n",
       "      <td>2019-05-03 11:16:18</td>\n",
       "      <td>1571.0</td>\n",
       "    </tr>\n",
       "    <tr>\n",
       "      <th>1</th>\n",
       "      <td>1</td>\n",
       "      <td>2019-05-03 11:25:53</td>\n",
       "      <td>1604.0</td>\n",
       "    </tr>\n",
       "    <tr>\n",
       "      <th>2</th>\n",
       "      <td>1</td>\n",
       "      <td>2019-05-03 11:29:11</td>\n",
       "      <td>1618.0</td>\n",
       "    </tr>\n",
       "    <tr>\n",
       "      <th>3</th>\n",
       "      <td>1</td>\n",
       "      <td>2019-05-03 11:30:01</td>\n",
       "      <td>1601.0</td>\n",
       "    </tr>\n",
       "    <tr>\n",
       "      <th>4</th>\n",
       "      <td>1</td>\n",
       "      <td>2019-05-03 11:30:39</td>\n",
       "      <td>1613.0</td>\n",
       "    </tr>\n",
       "  </tbody>\n",
       "</table>\n",
       "</div>"
      ],
      "text/plain": [
       "   key         Время замера  Температура\n",
       "0    1  2019-05-03 11:16:18       1571.0\n",
       "1    1  2019-05-03 11:25:53       1604.0\n",
       "2    1  2019-05-03 11:29:11       1618.0\n",
       "3    1  2019-05-03 11:30:01       1601.0\n",
       "4    1  2019-05-03 11:30:39       1613.0"
      ]
     },
     "execution_count": 528,
     "metadata": {},
     "output_type": "execute_result"
    }
   ],
   "source": [
    "data_temp.head()"
   ]
  },
  {
   "cell_type": "markdown",
   "metadata": {
    "id": "gWvLsyjXvtea"
   },
   "source": [
    "Из таблицы видим, что во время производства партии стали, несколько раз осуществляется замер температуры сплава: первый раз когда сплав выливают в ковш, затем перед первым вводом лигирующих добавок, и так, до окончания цикла производства."
   ]
  },
  {
   "cell_type": "code",
   "execution_count": 529,
   "metadata": {
    "colab": {
     "base_uri": "https://localhost:8080/",
     "height": 204
    },
    "executionInfo": {
     "elapsed": 75,
     "status": "ok",
     "timestamp": 1637657157898,
     "user": {
      "displayName": "LIZA FOX",
      "photoUrl": "https://lh3.googleusercontent.com/a-/AOh14GiROuqSKlugDuMLD2zosy5BB_CwYcn4VtpUBQP5=s64",
      "userId": "17049926938416427493"
     },
     "user_tz": -300
    },
    "id": "bJMsDk87rZWl",
    "outputId": "ce061866-f23a-4e06-946d-e71f82b9c40f"
   },
   "outputs": [
    {
     "data": {
      "text/html": [
       "<div>\n",
       "<style scoped>\n",
       "    .dataframe tbody tr th:only-of-type {\n",
       "        vertical-align: middle;\n",
       "    }\n",
       "\n",
       "    .dataframe tbody tr th {\n",
       "        vertical-align: top;\n",
       "    }\n",
       "\n",
       "    .dataframe thead th {\n",
       "        text-align: right;\n",
       "    }\n",
       "</style>\n",
       "<table border=\"1\" class=\"dataframe\">\n",
       "  <thead>\n",
       "    <tr style=\"text-align: right;\">\n",
       "      <th></th>\n",
       "      <th>key</th>\n",
       "      <th>Wire 1</th>\n",
       "      <th>Wire 2</th>\n",
       "      <th>Wire 3</th>\n",
       "      <th>Wire 4</th>\n",
       "      <th>Wire 5</th>\n",
       "      <th>Wire 6</th>\n",
       "      <th>Wire 7</th>\n",
       "      <th>Wire 8</th>\n",
       "      <th>Wire 9</th>\n",
       "    </tr>\n",
       "  </thead>\n",
       "  <tbody>\n",
       "    <tr>\n",
       "      <th>0</th>\n",
       "      <td>1</td>\n",
       "      <td>60.059998</td>\n",
       "      <td>NaN</td>\n",
       "      <td>NaN</td>\n",
       "      <td>NaN</td>\n",
       "      <td>NaN</td>\n",
       "      <td>NaN</td>\n",
       "      <td>NaN</td>\n",
       "      <td>NaN</td>\n",
       "      <td>NaN</td>\n",
       "    </tr>\n",
       "    <tr>\n",
       "      <th>1</th>\n",
       "      <td>2</td>\n",
       "      <td>96.052315</td>\n",
       "      <td>NaN</td>\n",
       "      <td>NaN</td>\n",
       "      <td>NaN</td>\n",
       "      <td>NaN</td>\n",
       "      <td>NaN</td>\n",
       "      <td>NaN</td>\n",
       "      <td>NaN</td>\n",
       "      <td>NaN</td>\n",
       "    </tr>\n",
       "    <tr>\n",
       "      <th>2</th>\n",
       "      <td>3</td>\n",
       "      <td>91.160157</td>\n",
       "      <td>NaN</td>\n",
       "      <td>NaN</td>\n",
       "      <td>NaN</td>\n",
       "      <td>NaN</td>\n",
       "      <td>NaN</td>\n",
       "      <td>NaN</td>\n",
       "      <td>NaN</td>\n",
       "      <td>NaN</td>\n",
       "    </tr>\n",
       "    <tr>\n",
       "      <th>3</th>\n",
       "      <td>4</td>\n",
       "      <td>89.063515</td>\n",
       "      <td>NaN</td>\n",
       "      <td>NaN</td>\n",
       "      <td>NaN</td>\n",
       "      <td>NaN</td>\n",
       "      <td>NaN</td>\n",
       "      <td>NaN</td>\n",
       "      <td>NaN</td>\n",
       "      <td>NaN</td>\n",
       "    </tr>\n",
       "    <tr>\n",
       "      <th>4</th>\n",
       "      <td>5</td>\n",
       "      <td>89.238236</td>\n",
       "      <td>9.11456</td>\n",
       "      <td>NaN</td>\n",
       "      <td>NaN</td>\n",
       "      <td>NaN</td>\n",
       "      <td>NaN</td>\n",
       "      <td>NaN</td>\n",
       "      <td>NaN</td>\n",
       "      <td>NaN</td>\n",
       "    </tr>\n",
       "  </tbody>\n",
       "</table>\n",
       "</div>"
      ],
      "text/plain": [
       "   key     Wire 1   Wire 2  Wire 3  ...  Wire 6  Wire 7  Wire 8  Wire 9\n",
       "0    1  60.059998      NaN     NaN  ...     NaN     NaN     NaN     NaN\n",
       "1    2  96.052315      NaN     NaN  ...     NaN     NaN     NaN     NaN\n",
       "2    3  91.160157      NaN     NaN  ...     NaN     NaN     NaN     NaN\n",
       "3    4  89.063515      NaN     NaN  ...     NaN     NaN     NaN     NaN\n",
       "4    5  89.238236  9.11456     NaN  ...     NaN     NaN     NaN     NaN\n",
       "\n",
       "[5 rows x 10 columns]"
      ]
     },
     "execution_count": 529,
     "metadata": {},
     "output_type": "execute_result"
    }
   ],
   "source": [
    "data_wire.head()"
   ]
  },
  {
   "cell_type": "markdown",
   "metadata": {
    "id": "5dyELXM33mLl"
   },
   "source": [
    "Из таблицы видим объем проволочных материалов, задействованных при производстве партии стали. Видим, что для некоторых партий стали, проволочный материал подавался ни один раз."
   ]
  },
  {
   "cell_type": "code",
   "execution_count": 530,
   "metadata": {
    "colab": {
     "base_uri": "https://localhost:8080/",
     "height": 204
    },
    "executionInfo": {
     "elapsed": 75,
     "status": "ok",
     "timestamp": 1637657157899,
     "user": {
      "displayName": "LIZA FOX",
      "photoUrl": "https://lh3.googleusercontent.com/a-/AOh14GiROuqSKlugDuMLD2zosy5BB_CwYcn4VtpUBQP5=s64",
      "userId": "17049926938416427493"
     },
     "user_tz": -300
    },
    "id": "vK9sErmTrbtG",
    "outputId": "fd6f7852-63c5-4243-9615-ae7f5c7c3f38"
   },
   "outputs": [
    {
     "data": {
      "text/html": [
       "<div>\n",
       "<style scoped>\n",
       "    .dataframe tbody tr th:only-of-type {\n",
       "        vertical-align: middle;\n",
       "    }\n",
       "\n",
       "    .dataframe tbody tr th {\n",
       "        vertical-align: top;\n",
       "    }\n",
       "\n",
       "    .dataframe thead th {\n",
       "        text-align: right;\n",
       "    }\n",
       "</style>\n",
       "<table border=\"1\" class=\"dataframe\">\n",
       "  <thead>\n",
       "    <tr style=\"text-align: right;\">\n",
       "      <th></th>\n",
       "      <th>key</th>\n",
       "      <th>Wire 1</th>\n",
       "      <th>Wire 2</th>\n",
       "      <th>Wire 3</th>\n",
       "      <th>Wire 4</th>\n",
       "      <th>Wire 5</th>\n",
       "      <th>Wire 6</th>\n",
       "      <th>Wire 7</th>\n",
       "      <th>Wire 8</th>\n",
       "      <th>Wire 9</th>\n",
       "    </tr>\n",
       "  </thead>\n",
       "  <tbody>\n",
       "    <tr>\n",
       "      <th>0</th>\n",
       "      <td>1</td>\n",
       "      <td>2019-05-03 11:11:41</td>\n",
       "      <td>NaN</td>\n",
       "      <td>NaN</td>\n",
       "      <td>NaN</td>\n",
       "      <td>NaN</td>\n",
       "      <td>NaN</td>\n",
       "      <td>NaN</td>\n",
       "      <td>NaN</td>\n",
       "      <td>NaN</td>\n",
       "    </tr>\n",
       "    <tr>\n",
       "      <th>1</th>\n",
       "      <td>2</td>\n",
       "      <td>2019-05-03 11:46:10</td>\n",
       "      <td>NaN</td>\n",
       "      <td>NaN</td>\n",
       "      <td>NaN</td>\n",
       "      <td>NaN</td>\n",
       "      <td>NaN</td>\n",
       "      <td>NaN</td>\n",
       "      <td>NaN</td>\n",
       "      <td>NaN</td>\n",
       "    </tr>\n",
       "    <tr>\n",
       "      <th>2</th>\n",
       "      <td>3</td>\n",
       "      <td>2019-05-03 12:13:47</td>\n",
       "      <td>NaN</td>\n",
       "      <td>NaN</td>\n",
       "      <td>NaN</td>\n",
       "      <td>NaN</td>\n",
       "      <td>NaN</td>\n",
       "      <td>NaN</td>\n",
       "      <td>NaN</td>\n",
       "      <td>NaN</td>\n",
       "    </tr>\n",
       "    <tr>\n",
       "      <th>3</th>\n",
       "      <td>4</td>\n",
       "      <td>2019-05-03 12:48:05</td>\n",
       "      <td>NaN</td>\n",
       "      <td>NaN</td>\n",
       "      <td>NaN</td>\n",
       "      <td>NaN</td>\n",
       "      <td>NaN</td>\n",
       "      <td>NaN</td>\n",
       "      <td>NaN</td>\n",
       "      <td>NaN</td>\n",
       "    </tr>\n",
       "    <tr>\n",
       "      <th>4</th>\n",
       "      <td>5</td>\n",
       "      <td>2019-05-03 13:18:15</td>\n",
       "      <td>2019-05-03 13:32:06</td>\n",
       "      <td>NaN</td>\n",
       "      <td>NaN</td>\n",
       "      <td>NaN</td>\n",
       "      <td>NaN</td>\n",
       "      <td>NaN</td>\n",
       "      <td>NaN</td>\n",
       "      <td>NaN</td>\n",
       "    </tr>\n",
       "  </tbody>\n",
       "</table>\n",
       "</div>"
      ],
      "text/plain": [
       "   key               Wire 1               Wire 2  ... Wire 7 Wire 8 Wire 9\n",
       "0    1  2019-05-03 11:11:41                  NaN  ...    NaN    NaN    NaN\n",
       "1    2  2019-05-03 11:46:10                  NaN  ...    NaN    NaN    NaN\n",
       "2    3  2019-05-03 12:13:47                  NaN  ...    NaN    NaN    NaN\n",
       "3    4  2019-05-03 12:48:05                  NaN  ...    NaN    NaN    NaN\n",
       "4    5  2019-05-03 13:18:15  2019-05-03 13:32:06  ...    NaN    NaN    NaN\n",
       "\n",
       "[5 rows x 10 columns]"
      ]
     },
     "execution_count": 530,
     "metadata": {},
     "output_type": "execute_result"
    }
   ],
   "source": [
    "data_wire_time.head()"
   ]
  },
  {
   "cell_type": "markdown",
   "metadata": {
    "id": "YqOijAeW4REU"
   },
   "source": [
    "Из данных видим, во сколько подавалася тот или иной проволочный материал."
   ]
  },
  {
   "cell_type": "markdown",
   "metadata": {
    "id": "pFCubt5557ku"
   },
   "source": [
    "### Посмотр структуры табличных данных"
   ]
  },
  {
   "cell_type": "code",
   "execution_count": 531,
   "metadata": {
    "colab": {
     "base_uri": "https://localhost:8080/"
    },
    "executionInfo": {
     "elapsed": 1217,
     "status": "ok",
     "timestamp": 1637657159043,
     "user": {
      "displayName": "LIZA FOX",
      "photoUrl": "https://lh3.googleusercontent.com/a-/AOh14GiROuqSKlugDuMLD2zosy5BB_CwYcn4VtpUBQP5=s64",
      "userId": "17049926938416427493"
     },
     "user_tz": -300
    },
    "id": "w8rZBfLRn6VI",
    "outputId": "e375ed3a-9b43-4293-9d33-9ed79265b730"
   },
   "outputs": [
    {
     "name": "stdout",
     "output_type": "stream",
     "text": [
      "<class 'pandas.core.frame.DataFrame'>\n",
      "RangeIndex: 14876 entries, 0 to 14875\n",
      "Data columns (total 5 columns):\n",
      " #   Column                Non-Null Count  Dtype  \n",
      "---  ------                --------------  -----  \n",
      " 0   key                   14876 non-null  int64  \n",
      " 1   Начало нагрева дугой  14876 non-null  object \n",
      " 2   Конец нагрева дугой   14876 non-null  object \n",
      " 3   Активная мощность     14876 non-null  float64\n",
      " 4   Реактивная мощность   14876 non-null  float64\n",
      "dtypes: float64(2), int64(1), object(2)\n",
      "memory usage: 581.2+ KB\n",
      "None\n",
      "-----------------\n",
      "<class 'pandas.core.frame.DataFrame'>\n",
      "RangeIndex: 3129 entries, 0 to 3128\n",
      "Data columns (total 16 columns):\n",
      " #   Column   Non-Null Count  Dtype  \n",
      "---  ------   --------------  -----  \n",
      " 0   key      3129 non-null   int64  \n",
      " 1   Bulk 1   252 non-null    float64\n",
      " 2   Bulk 2   22 non-null     float64\n",
      " 3   Bulk 3   1298 non-null   float64\n",
      " 4   Bulk 4   1014 non-null   float64\n",
      " 5   Bulk 5   77 non-null     float64\n",
      " 6   Bulk 6   576 non-null    float64\n",
      " 7   Bulk 7   25 non-null     float64\n",
      " 8   Bulk 8   1 non-null      float64\n",
      " 9   Bulk 9   19 non-null     float64\n",
      " 10  Bulk 10  176 non-null    float64\n",
      " 11  Bulk 11  177 non-null    float64\n",
      " 12  Bulk 12  2450 non-null   float64\n",
      " 13  Bulk 13  18 non-null     float64\n",
      " 14  Bulk 14  2806 non-null   float64\n",
      " 15  Bulk 15  2248 non-null   float64\n",
      "dtypes: float64(15), int64(1)\n",
      "memory usage: 391.2 KB\n",
      "None\n",
      "-----------------\n",
      "<class 'pandas.core.frame.DataFrame'>\n",
      "RangeIndex: 3129 entries, 0 to 3128\n",
      "Data columns (total 16 columns):\n",
      " #   Column   Non-Null Count  Dtype \n",
      "---  ------   --------------  ----- \n",
      " 0   key      3129 non-null   int64 \n",
      " 1   Bulk 1   252 non-null    object\n",
      " 2   Bulk 2   22 non-null     object\n",
      " 3   Bulk 3   1298 non-null   object\n",
      " 4   Bulk 4   1014 non-null   object\n",
      " 5   Bulk 5   77 non-null     object\n",
      " 6   Bulk 6   576 non-null    object\n",
      " 7   Bulk 7   25 non-null     object\n",
      " 8   Bulk 8   1 non-null      object\n",
      " 9   Bulk 9   19 non-null     object\n",
      " 10  Bulk 10  176 non-null    object\n",
      " 11  Bulk 11  177 non-null    object\n",
      " 12  Bulk 12  2450 non-null   object\n",
      " 13  Bulk 13  18 non-null     object\n",
      " 14  Bulk 14  2806 non-null   object\n",
      " 15  Bulk 15  2248 non-null   object\n",
      "dtypes: int64(1), object(15)\n",
      "memory usage: 391.2+ KB\n",
      "None\n",
      "-----------------\n",
      "<class 'pandas.core.frame.DataFrame'>\n",
      "RangeIndex: 3239 entries, 0 to 3238\n",
      "Data columns (total 2 columns):\n",
      " #   Column  Non-Null Count  Dtype  \n",
      "---  ------  --------------  -----  \n",
      " 0   key     3239 non-null   int64  \n",
      " 1   Газ 1   3239 non-null   float64\n",
      "dtypes: float64(1), int64(1)\n",
      "memory usage: 50.7 KB\n",
      "None\n",
      "-----------------\n",
      "<class 'pandas.core.frame.DataFrame'>\n",
      "RangeIndex: 15907 entries, 0 to 15906\n",
      "Data columns (total 3 columns):\n",
      " #   Column        Non-Null Count  Dtype  \n",
      "---  ------        --------------  -----  \n",
      " 0   key           15907 non-null  int64  \n",
      " 1   Время замера  15907 non-null  object \n",
      " 2   Температура   13006 non-null  float64\n",
      "dtypes: float64(1), int64(1), object(1)\n",
      "memory usage: 372.9+ KB\n",
      "None\n",
      "-----------------\n",
      "<class 'pandas.core.frame.DataFrame'>\n",
      "RangeIndex: 3081 entries, 0 to 3080\n",
      "Data columns (total 10 columns):\n",
      " #   Column  Non-Null Count  Dtype  \n",
      "---  ------  --------------  -----  \n",
      " 0   key     3081 non-null   int64  \n",
      " 1   Wire 1  3055 non-null   float64\n",
      " 2   Wire 2  1079 non-null   float64\n",
      " 3   Wire 3  63 non-null     float64\n",
      " 4   Wire 4  14 non-null     float64\n",
      " 5   Wire 5  1 non-null      float64\n",
      " 6   Wire 6  73 non-null     float64\n",
      " 7   Wire 7  11 non-null     float64\n",
      " 8   Wire 8  19 non-null     float64\n",
      " 9   Wire 9  29 non-null     float64\n",
      "dtypes: float64(9), int64(1)\n",
      "memory usage: 240.8 KB\n",
      "None\n",
      "-----------------\n",
      "<class 'pandas.core.frame.DataFrame'>\n",
      "RangeIndex: 3081 entries, 0 to 3080\n",
      "Data columns (total 10 columns):\n",
      " #   Column  Non-Null Count  Dtype \n",
      "---  ------  --------------  ----- \n",
      " 0   key     3081 non-null   int64 \n",
      " 1   Wire 1  3055 non-null   object\n",
      " 2   Wire 2  1079 non-null   object\n",
      " 3   Wire 3  63 non-null     object\n",
      " 4   Wire 4  14 non-null     object\n",
      " 5   Wire 5  1 non-null      object\n",
      " 6   Wire 6  73 non-null     object\n",
      " 7   Wire 7  11 non-null     object\n",
      " 8   Wire 8  19 non-null     object\n",
      " 9   Wire 9  29 non-null     object\n",
      "dtypes: int64(1), object(9)\n",
      "memory usage: 240.8+ KB\n",
      "None\n",
      "-----------------\n"
     ]
    }
   ],
   "source": [
    "for data in [data_arc, data_bulk, data_bulk_time, data_gas, data_temp, data_wire, data_wire_time]:\n",
    "    print(data.info())\n",
    "    print('-----------------')"
   ]
  },
  {
   "cell_type": "markdown",
   "metadata": {
    "id": "-QMtXFXYaH8E"
   },
   "source": [
    "В таблице data_arc пропущенных значений нет, но тип данных object для столбцов \"Начало нагрева дугой\", \"Конец нагрева дугой\" необходимо будет преобразовать в тип данных, удобный для работы с датой, временем, - datetime.  \n",
    "В таблице data_bulk много пропущенных значений, которые образовались из-за того, что что в процессе сталилитейного производства не все сыпучие материалы задействуются. Данные пропуски будут в дальнейшем обработаны.  \n",
    "В таблице data_bulk_time также много проущенных значений по той же причине, что и в таблице data_bulk. Также у столбцов Bulk1, Bulk2 и т.д. тип данных object.  \n",
    "В таблице data_gas пропусков нет, типы данных корректны.  \n",
    "В таблице data_temp есть пропущенные значения для поля Температура. В дальнейшем данные пропуски будут обработаны.  \n",
    "В таблице data_wire есть пропущенные значения по той же причине, что и в таблице data_bulk.  \n",
    "В таблице data_wire_time также много проущенных значений по той же причине, что и в таблице data_wire. \n"
   ]
  },
  {
   "cell_type": "markdown",
   "metadata": {
    "id": "33TwrMDZfLDY"
   },
   "source": [
    "Также можно заметить, что по всем таблицам прослеживается некорректность наименования столбцов, переименуем их в соответствии с принципом snake_case для удобства работы с данными:"
   ]
  },
  {
   "cell_type": "code",
   "execution_count": 532,
   "metadata": {
    "executionInfo": {
     "elapsed": 90,
     "status": "ok",
     "timestamp": 1637657159044,
     "user": {
      "displayName": "LIZA FOX",
      "photoUrl": "https://lh3.googleusercontent.com/a-/AOh14GiROuqSKlugDuMLD2zosy5BB_CwYcn4VtpUBQP5=s64",
      "userId": "17049926938416427493"
     },
     "user_tz": -300
    },
    "id": "b7-vH3jupKpP"
   },
   "outputs": [],
   "source": [
    "data_arc.columns = ['key', 'arc_heating_start', 'arc_heating_stop',\n",
    "       'active_power', 'reactive_power']"
   ]
  },
  {
   "cell_type": "code",
   "execution_count": 533,
   "metadata": {
    "executionInfo": {
     "elapsed": 89,
     "status": "ok",
     "timestamp": 1637657159045,
     "user": {
      "displayName": "LIZA FOX",
      "photoUrl": "https://lh3.googleusercontent.com/a-/AOh14GiROuqSKlugDuMLD2zosy5BB_CwYcn4VtpUBQP5=s64",
      "userId": "17049926938416427493"
     },
     "user_tz": -300
    },
    "id": "UPugM1gHmdqM"
   },
   "outputs": [],
   "source": [
    "data_bulk = data_bulk.rename(columns=lambda x: x.replace('B', 'b'))\n",
    "data_bulk = data_bulk.rename(columns=lambda x: x.replace(' ', '_'))"
   ]
  },
  {
   "cell_type": "code",
   "execution_count": 534,
   "metadata": {
    "executionInfo": {
     "elapsed": 89,
     "status": "ok",
     "timestamp": 1637657159046,
     "user": {
      "displayName": "LIZA FOX",
      "photoUrl": "https://lh3.googleusercontent.com/a-/AOh14GiROuqSKlugDuMLD2zosy5BB_CwYcn4VtpUBQP5=s64",
      "userId": "17049926938416427493"
     },
     "user_tz": -300
    },
    "id": "qt-jkgF4j5iY"
   },
   "outputs": [],
   "source": [
    "data_bulk_time = data_bulk_time.rename(columns=lambda x: x.replace('B', 'b'))\n",
    "data_bulk_time = data_bulk_time.rename(columns=lambda x: x.replace(' ', '_'))"
   ]
  },
  {
   "cell_type": "code",
   "execution_count": 535,
   "metadata": {
    "executionInfo": {
     "elapsed": 88,
     "status": "ok",
     "timestamp": 1637657159046,
     "user": {
      "displayName": "LIZA FOX",
      "photoUrl": "https://lh3.googleusercontent.com/a-/AOh14GiROuqSKlugDuMLD2zosy5BB_CwYcn4VtpUBQP5=s64",
      "userId": "17049926938416427493"
     },
     "user_tz": -300
    },
    "id": "3z7muCOOni2t"
   },
   "outputs": [],
   "source": [
    "data_gas.columns = ['key', 'gas']"
   ]
  },
  {
   "cell_type": "code",
   "execution_count": 536,
   "metadata": {
    "executionInfo": {
     "elapsed": 86,
     "status": "ok",
     "timestamp": 1637657159047,
     "user": {
      "displayName": "LIZA FOX",
      "photoUrl": "https://lh3.googleusercontent.com/a-/AOh14GiROuqSKlugDuMLD2zosy5BB_CwYcn4VtpUBQP5=s64",
      "userId": "17049926938416427493"
     },
     "user_tz": -300
    },
    "id": "uKUNNxRnnqT1"
   },
   "outputs": [],
   "source": [
    "data_temp.columns = ['key', 'measure_time', 'temperature']"
   ]
  },
  {
   "cell_type": "code",
   "execution_count": 537,
   "metadata": {
    "executionInfo": {
     "elapsed": 86,
     "status": "ok",
     "timestamp": 1637657159048,
     "user": {
      "displayName": "LIZA FOX",
      "photoUrl": "https://lh3.googleusercontent.com/a-/AOh14GiROuqSKlugDuMLD2zosy5BB_CwYcn4VtpUBQP5=s64",
      "userId": "17049926938416427493"
     },
     "user_tz": -300
    },
    "id": "SMg3oIwrn9k-"
   },
   "outputs": [],
   "source": [
    "data_wire = data_wire.rename(columns=lambda x: x.replace('W', 'w'))\n",
    "data_wire = data_wire.rename(columns=lambda x: x.replace(' ', '_'))"
   ]
  },
  {
   "cell_type": "code",
   "execution_count": 538,
   "metadata": {
    "executionInfo": {
     "elapsed": 86,
     "status": "ok",
     "timestamp": 1637657159049,
     "user": {
      "displayName": "LIZA FOX",
      "photoUrl": "https://lh3.googleusercontent.com/a-/AOh14GiROuqSKlugDuMLD2zosy5BB_CwYcn4VtpUBQP5=s64",
      "userId": "17049926938416427493"
     },
     "user_tz": -300
    },
    "id": "aBUupTYfodRq"
   },
   "outputs": [],
   "source": [
    "data_wire_time = data_wire_time.rename(columns=lambda x: x.replace('W', 'w'))\n",
    "data_wire_time = data_wire_time.rename(columns=lambda x: x.replace(' ', '_'))"
   ]
  },
  {
   "cell_type": "markdown",
   "metadata": {
    "id": "3Nu3Dy5JUgSm"
   },
   "source": [
    "## Обработка и анализ данных"
   ]
  },
  {
   "cell_type": "markdown",
   "metadata": {
    "id": "gdq0AjXPGybQ"
   },
   "source": [
    "### Обработка пропусков"
   ]
  },
  {
   "cell_type": "markdown",
   "metadata": {
    "id": "mN12AY3XG-78"
   },
   "source": [
    "Предположим, что если в таблицах data_bulk, data_bulk_time, data_wire, data_wire_time есть пропущенные значения NaN, значит данный материал не был задействован в сталелитейном производстве. Соответственно, данные значения можно заменить на 0 (так как для модели непосредственно таблицы data_bulk_time и data_wire_time не потребуются, обработаем пропуски только в таблицах data_bulk и data_wire):"
   ]
  },
  {
   "cell_type": "code",
   "execution_count": 539,
   "metadata": {
    "executionInfo": {
     "elapsed": 87,
     "status": "ok",
     "timestamp": 1637657159051,
     "user": {
      "displayName": "LIZA FOX",
      "photoUrl": "https://lh3.googleusercontent.com/a-/AOh14GiROuqSKlugDuMLD2zosy5BB_CwYcn4VtpUBQP5=s64",
      "userId": "17049926938416427493"
     },
     "user_tz": -300
    },
    "id": "RL8Gs8neIeO5"
   },
   "outputs": [],
   "source": [
    "data_bulk = data_bulk.fillna(0)\n",
    "data_wire = data_wire.fillna(0)"
   ]
  },
  {
   "cell_type": "markdown",
   "metadata": {
    "id": "8udKAShGMwAE"
   },
   "source": [
    "Посмотрим на пропуски в таблице data_temp:"
   ]
  },
  {
   "cell_type": "code",
   "execution_count": 540,
   "metadata": {
    "colab": {
     "base_uri": "https://localhost:8080/",
     "height": 204
    },
    "executionInfo": {
     "elapsed": 94,
     "status": "ok",
     "timestamp": 1637657159059,
     "user": {
      "displayName": "LIZA FOX",
      "photoUrl": "https://lh3.googleusercontent.com/a-/AOh14GiROuqSKlugDuMLD2zosy5BB_CwYcn4VtpUBQP5=s64",
      "userId": "17049926938416427493"
     },
     "user_tz": -300
    },
    "id": "ReNoeuePRgF5",
    "outputId": "a1c9b9ae-90c3-494d-a7b2-dc86434c6cb0"
   },
   "outputs": [
    {
     "data": {
      "text/html": [
       "<div>\n",
       "<style scoped>\n",
       "    .dataframe tbody tr th:only-of-type {\n",
       "        vertical-align: middle;\n",
       "    }\n",
       "\n",
       "    .dataframe tbody tr th {\n",
       "        vertical-align: top;\n",
       "    }\n",
       "\n",
       "    .dataframe thead th {\n",
       "        text-align: right;\n",
       "    }\n",
       "</style>\n",
       "<table border=\"1\" class=\"dataframe\">\n",
       "  <thead>\n",
       "    <tr style=\"text-align: right;\">\n",
       "      <th></th>\n",
       "      <th>key</th>\n",
       "      <th>measure_time</th>\n",
       "      <th>temperature</th>\n",
       "    </tr>\n",
       "  </thead>\n",
       "  <tbody>\n",
       "    <tr>\n",
       "      <th>12268</th>\n",
       "      <td>2500</td>\n",
       "      <td>2019-08-06 03:24:43</td>\n",
       "      <td>NaN</td>\n",
       "    </tr>\n",
       "    <tr>\n",
       "      <th>12269</th>\n",
       "      <td>2500</td>\n",
       "      <td>2019-08-06 03:25:16</td>\n",
       "      <td>NaN</td>\n",
       "    </tr>\n",
       "    <tr>\n",
       "      <th>12270</th>\n",
       "      <td>2500</td>\n",
       "      <td>2019-08-06 03:28:21</td>\n",
       "      <td>NaN</td>\n",
       "    </tr>\n",
       "    <tr>\n",
       "      <th>12272</th>\n",
       "      <td>2501</td>\n",
       "      <td>2019-08-06 04:01:59</td>\n",
       "      <td>NaN</td>\n",
       "    </tr>\n",
       "    <tr>\n",
       "      <th>12273</th>\n",
       "      <td>2501</td>\n",
       "      <td>2019-08-06 04:14:35</td>\n",
       "      <td>NaN</td>\n",
       "    </tr>\n",
       "  </tbody>\n",
       "</table>\n",
       "</div>"
      ],
      "text/plain": [
       "        key         measure_time  temperature\n",
       "12268  2500  2019-08-06 03:24:43          NaN\n",
       "12269  2500  2019-08-06 03:25:16          NaN\n",
       "12270  2500  2019-08-06 03:28:21          NaN\n",
       "12272  2501  2019-08-06 04:01:59          NaN\n",
       "12273  2501  2019-08-06 04:14:35          NaN"
      ]
     },
     "execution_count": 540,
     "metadata": {},
     "output_type": "execute_result"
    }
   ],
   "source": [
    "data_temp[data_temp['temperature'].isnull()].head()"
   ]
  },
  {
   "cell_type": "markdown",
   "metadata": {
    "id": "3-Gznb3FSCLv"
   },
   "source": [
    "Мы видим, что по какой-то причине, во время производственного процесса значения температуры были замерены не для всех циклов. Определим процентное соотношение отсутсвующих значений:"
   ]
  },
  {
   "cell_type": "code",
   "execution_count": 541,
   "metadata": {
    "colab": {
     "base_uri": "https://localhost:8080/"
    },
    "executionInfo": {
     "elapsed": 91,
     "status": "ok",
     "timestamp": 1637657159061,
     "user": {
      "displayName": "LIZA FOX",
      "photoUrl": "https://lh3.googleusercontent.com/a-/AOh14GiROuqSKlugDuMLD2zosy5BB_CwYcn4VtpUBQP5=s64",
      "userId": "17049926938416427493"
     },
     "user_tz": -300
    },
    "id": "pxoG79ouRulH",
    "outputId": "a7b1f379-210c-46cc-892e-090f26dbbcf5"
   },
   "outputs": [
    {
     "data": {
      "text/plain": [
       "0.18237254039102282"
      ]
     },
     "execution_count": 541,
     "metadata": {},
     "output_type": "execute_result"
    }
   ],
   "source": [
    "len(data_temp[data_temp['temperature'].isnull()])/len(data_temp)"
   ]
  },
  {
   "cell_type": "markdown",
   "metadata": {
    "id": "S59vcObrVrpA"
   },
   "source": [
    "В имеющихся данных температура замерена только в 82% случаев. При замене целевого признака медианным значением или любым другим, можем получить достаточно большую ошибку в работе модели, поэтому удалим строки, в которых отсутсвует замер температуры: "
   ]
  },
  {
   "cell_type": "code",
   "execution_count": 542,
   "metadata": {
    "executionInfo": {
     "elapsed": 79,
     "status": "ok",
     "timestamp": 1637657159063,
     "user": {
      "displayName": "LIZA FOX",
      "photoUrl": "https://lh3.googleusercontent.com/a-/AOh14GiROuqSKlugDuMLD2zosy5BB_CwYcn4VtpUBQP5=s64",
      "userId": "17049926938416427493"
     },
     "user_tz": -300
    },
    "id": "ZyJYuMWGUKvJ"
   },
   "outputs": [],
   "source": [
    "data_temp.dropna(subset=['temperature'], inplace=True)"
   ]
  },
  {
   "cell_type": "markdown",
   "metadata": {
    "id": "r6I1D90OZd08"
   },
   "source": [
    "### Поиск дубликатов"
   ]
  },
  {
   "cell_type": "code",
   "execution_count": 543,
   "metadata": {
    "colab": {
     "base_uri": "https://localhost:8080/"
    },
    "executionInfo": {
     "elapsed": 78,
     "status": "ok",
     "timestamp": 1637657159063,
     "user": {
      "displayName": "LIZA FOX",
      "photoUrl": "https://lh3.googleusercontent.com/a-/AOh14GiROuqSKlugDuMLD2zosy5BB_CwYcn4VtpUBQP5=s64",
      "userId": "17049926938416427493"
     },
     "user_tz": -300
    },
    "id": "HeDsuMGIZj-5",
    "outputId": "5258d45a-05a1-4c9c-bb87-8c4efe8f493c"
   },
   "outputs": [
    {
     "name": "stdout",
     "output_type": "stream",
     "text": [
      "0\n",
      "0\n",
      "0\n",
      "0\n",
      "0\n",
      "0\n",
      "0\n"
     ]
    }
   ],
   "source": [
    "for data in [data_arc, data_bulk, data_bulk_time, data_gas, data_temp, data_wire, data_wire_time]:\n",
    "  print(data.duplicated().sum())"
   ]
  },
  {
   "cell_type": "markdown",
   "metadata": {
    "id": "FMWERAcZZ3-x"
   },
   "source": [
    "Дубликаты в данных отсутсвуют."
   ]
  },
  {
   "cell_type": "markdown",
   "metadata": {
    "id": "HTLO4jofcDo5"
   },
   "source": [
    "### Изменение типов данных"
   ]
  },
  {
   "cell_type": "code",
   "execution_count": 544,
   "metadata": {
    "executionInfo": {
     "elapsed": 68,
     "status": "ok",
     "timestamp": 1637657159064,
     "user": {
      "displayName": "LIZA FOX",
      "photoUrl": "https://lh3.googleusercontent.com/a-/AOh14GiROuqSKlugDuMLD2zosy5BB_CwYcn4VtpUBQP5=s64",
      "userId": "17049926938416427493"
     },
     "user_tz": -300
    },
    "id": "c1DdFqfzcPFG"
   },
   "outputs": [],
   "source": [
    "data_arc['arc_heating_start'] = pd.to_datetime(data_arc['arc_heating_start'])\n",
    "data_arc['arc_heating_stop'] = pd.to_datetime(data_arc['arc_heating_stop'])\n",
    "data_temp['measure_time'] = pd.to_datetime(data_temp['measure_time'])"
   ]
  },
  {
   "cell_type": "code",
   "execution_count": 545,
   "metadata": {
    "executionInfo": {
     "elapsed": 75,
     "status": "ok",
     "timestamp": 1637657159071,
     "user": {
      "displayName": "LIZA FOX",
      "photoUrl": "https://lh3.googleusercontent.com/a-/AOh14GiROuqSKlugDuMLD2zosy5BB_CwYcn4VtpUBQP5=s64",
      "userId": "17049926938416427493"
     },
     "user_tz": -300
    },
    "id": "47lTBuR-gBwa"
   },
   "outputs": [],
   "source": [
    "data_bulk_time.iloc[:, 1:16] = data_bulk_time.iloc[:, 1:16].apply(pd.to_datetime, errors='coerce')\n",
    "data_wire_time.iloc[:, 1:10] = data_wire_time.iloc[:, 1:10].apply(pd.to_datetime, errors='coerce')"
   ]
  },
  {
   "cell_type": "markdown",
   "metadata": {
    "id": "ny9vfw4B6S9_"
   },
   "source": [
    "### Предварительный анализ данных"
   ]
  },
  {
   "cell_type": "markdown",
   "metadata": {
    "id": "8-NR2vXw3DRV"
   },
   "source": [
    "Проанализируем данные таблицы data_gas:"
   ]
  },
  {
   "cell_type": "code",
   "execution_count": 546,
   "metadata": {
    "colab": {
     "base_uri": "https://localhost:8080/",
     "height": 265
    },
    "executionInfo": {
     "elapsed": 75,
     "status": "ok",
     "timestamp": 1637657159072,
     "user": {
      "displayName": "LIZA FOX",
      "photoUrl": "https://lh3.googleusercontent.com/a-/AOh14GiROuqSKlugDuMLD2zosy5BB_CwYcn4VtpUBQP5=s64",
      "userId": "17049926938416427493"
     },
     "user_tz": -300
    },
    "id": "6dZviYf-3G5p",
    "outputId": "fa1bc07b-e3ce-4446-8018-70cc8bb9b5a4"
   },
   "outputs": [
    {
     "data": {
      "image/png": "[encoded data removed]",
      "text/plain": [
       "<Figure size 432x288 with 1 Axes>"
      ]
     },
     "metadata": {
      "needs_background": "light"
     },
     "output_type": "display_data"
    }
   ],
   "source": [
    "data_gas.boxplot(column='gas')\n",
    "plt.show()"
   ]
  },
  {
   "cell_type": "code",
   "execution_count": 547,
   "metadata": {
    "colab": {
     "base_uri": "https://localhost:8080/"
    },
    "executionInfo": {
     "elapsed": 73,
     "status": "ok",
     "timestamp": 1637657159073,
     "user": {
      "displayName": "LIZA FOX",
      "photoUrl": "https://lh3.googleusercontent.com/a-/AOh14GiROuqSKlugDuMLD2zosy5BB_CwYcn4VtpUBQP5=s64",
      "userId": "17049926938416427493"
     },
     "user_tz": -300
    },
    "id": "i529gpIy3uHJ",
    "outputId": "6692b91b-0d45-4a95-d757-9be1e115deb5"
   },
   "outputs": [
    {
     "data": {
      "text/plain": [
       "3.118246372337141"
      ]
     },
     "execution_count": 547,
     "metadata": {},
     "output_type": "execute_result"
    }
   ],
   "source": [
    "len(data_gas.query('gas > 25'))/len(data_gas)*100"
   ]
  },
  {
   "cell_type": "markdown",
   "metadata": {
    "id": "gi1R62uS33Wl"
   },
   "source": [
    "3,1% данных выходят за пределы \"верхнего уса\" диаграммы размаха."
   ]
  },
  {
   "cell_type": "markdown",
   "metadata": {
    "id": "iJ5JgIlIXUvb"
   },
   "source": [
    "Проанализируем распределение температурных значений в таблице data_temp:"
   ]
  },
  {
   "cell_type": "code",
   "execution_count": 548,
   "metadata": {
    "colab": {
     "base_uri": "https://localhost:8080/",
     "height": 265
    },
    "executionInfo": {
     "elapsed": 930,
     "status": "ok",
     "timestamp": 1637657159940,
     "user": {
      "displayName": "LIZA FOX",
      "photoUrl": "https://lh3.googleusercontent.com/a-/AOh14GiROuqSKlugDuMLD2zosy5BB_CwYcn4VtpUBQP5=s64",
      "userId": "17049926938416427493"
     },
     "user_tz": -300
    },
    "id": "fENhkViUXoaV",
    "outputId": "bffa43fd-ec4a-4df1-f933-c61d5767fe85"
   },
   "outputs": [
    {
     "data": {
      "image/png": "[encoded data removed]",
      "text/plain": [
       "<Figure size 432x288 with 1 Axes>"
      ]
     },
     "metadata": {
      "needs_background": "light"
     },
     "output_type": "display_data"
    }
   ],
   "source": [
    "data_temp.boxplot(column='temperature')\n",
    "plt.show()"
   ]
  },
  {
   "cell_type": "markdown",
   "metadata": {
    "id": "-_NO8NKwX6q4"
   },
   "source": [
    "Из диаграммы размаха видим, что есть аномально низкие и аномально высокие значения температуры. Удалим из выборки значения температуры меньше 1400:"
   ]
  },
  {
   "cell_type": "code",
   "execution_count": 549,
   "metadata": {
    "executionInfo": {
     "elapsed": 249,
     "status": "ok",
     "timestamp": 1637657159941,
     "user": {
      "displayName": "LIZA FOX",
      "photoUrl": "https://lh3.googleusercontent.com/a-/AOh14GiROuqSKlugDuMLD2zosy5BB_CwYcn4VtpUBQP5=s64",
      "userId": "17049926938416427493"
     },
     "user_tz": -300
    },
    "id": "CMYrM5jkUZb7"
   },
   "outputs": [],
   "source": [
    "data_temp = data_temp.query('temperature > 1400')"
   ]
  },
  {
   "cell_type": "markdown",
   "metadata": {
    "id": "2P3blFRN6bNj"
   },
   "source": [
    "Проанализируем данные таблицы data_arc:"
   ]
  },
  {
   "cell_type": "code",
   "execution_count": 550,
   "metadata": {
    "colab": {
     "base_uri": "https://localhost:8080/",
     "height": 266
    },
    "executionInfo": {
     "elapsed": 256,
     "status": "ok",
     "timestamp": 1637657159949,
     "user": {
      "displayName": "LIZA FOX",
      "photoUrl": "https://lh3.googleusercontent.com/a-/AOh14GiROuqSKlugDuMLD2zosy5BB_CwYcn4VtpUBQP5=s64",
      "userId": "17049926938416427493"
     },
     "user_tz": -300
    },
    "id": "giBoYKar_DL4",
    "outputId": "f587e033-b754-4fa5-9c3f-a88544b00859"
   },
   "outputs": [
    {
     "data": {
      "image/png": "[encoded data removed]",
      "text/plain": [
       "<Figure size 432x288 with 1 Axes>"
      ]
     },
     "metadata": {
      "needs_background": "light"
     },
     "output_type": "display_data"
    }
   ],
   "source": [
    "data_arc.boxplot(column='active_power')\n",
    "plt.show()"
   ]
  },
  {
   "cell_type": "code",
   "execution_count": 551,
   "metadata": {
    "colab": {
     "base_uri": "https://localhost:8080/"
    },
    "executionInfo": {
     "elapsed": 254,
     "status": "ok",
     "timestamp": 1637657159950,
     "user": {
      "displayName": "LIZA FOX",
      "photoUrl": "https://lh3.googleusercontent.com/a-/AOh14GiROuqSKlugDuMLD2zosy5BB_CwYcn4VtpUBQP5=s64",
      "userId": "17049926938416427493"
     },
     "user_tz": -300
    },
    "id": "Go0bkJ4cA-Qw",
    "outputId": "b93dd83f-2664-4d1d-8ca8-14c8cb058ed9"
   },
   "outputs": [
    {
     "data": {
      "text/plain": [
       "2.588061306802904"
      ]
     },
     "execution_count": 551,
     "metadata": {},
     "output_type": "execute_result"
    }
   ],
   "source": [
    "len(data_arc.query('active_power > 1.7'))/len(data_arc)*100"
   ]
  },
  {
   "cell_type": "markdown",
   "metadata": {
    "id": "scm45yAECPtN"
   },
   "source": [
    "Около 2,6% значений имеют активную мощность > 1,7."
   ]
  },
  {
   "cell_type": "code",
   "execution_count": 552,
   "metadata": {
    "colab": {
     "base_uri": "https://localhost:8080/",
     "height": 270
    },
    "executionInfo": {
     "elapsed": 243,
     "status": "ok",
     "timestamp": 1637657159951,
     "user": {
      "displayName": "LIZA FOX",
      "photoUrl": "https://lh3.googleusercontent.com/a-/AOh14GiROuqSKlugDuMLD2zosy5BB_CwYcn4VtpUBQP5=s64",
      "userId": "17049926938416427493"
     },
     "user_tz": -300
    },
    "id": "Nw4eNOrK8HHM",
    "outputId": "8fd257d5-959b-450d-e31c-cbde02ac91aa"
   },
   "outputs": [
    {
     "data": {
      "image/png": "[encoded data removed]",
      "text/plain": [
       "<Figure size 432x288 with 1 Axes>"
      ]
     },
     "metadata": {
      "needs_background": "light"
     },
     "output_type": "display_data"
    }
   ],
   "source": [
    "data_arc.boxplot(column='reactive_power')\n",
    "plt.ylim(-1, 2)\n",
    "plt.show()"
   ]
  },
  {
   "cell_type": "code",
   "execution_count": 553,
   "metadata": {
    "colab": {
     "base_uri": "https://localhost:8080/"
    },
    "executionInfo": {
     "elapsed": 248,
     "status": "ok",
     "timestamp": 1637657159957,
     "user": {
      "displayName": "LIZA FOX",
      "photoUrl": "https://lh3.googleusercontent.com/a-/AOh14GiROuqSKlugDuMLD2zosy5BB_CwYcn4VtpUBQP5=s64",
      "userId": "17049926938416427493"
     },
     "user_tz": -300
    },
    "id": "eYo49uJKCjmJ",
    "outputId": "972f5398-f264-4bdf-e2fd-f219d65daa6e"
   },
   "outputs": [
    {
     "data": {
      "text/plain": [
       "2.7023393385318633"
      ]
     },
     "execution_count": 553,
     "metadata": {},
     "output_type": "execute_result"
    }
   ],
   "source": [
    "len(data_arc.query('reactive_power < 0 or reactive_power > 1.3'))/len(data_arc)*100"
   ]
  },
  {
   "cell_type": "markdown",
   "metadata": {
    "id": "fHRYpaNHDOSc"
   },
   "source": [
    "Около 2,7% значений имеют аномальные значения реактивной мощности."
   ]
  },
  {
   "cell_type": "code",
   "execution_count": 554,
   "metadata": {
    "colab": {
     "base_uri": "https://localhost:8080/"
    },
    "executionInfo": {
     "elapsed": 248,
     "status": "ok",
     "timestamp": 1637657159962,
     "user": {
      "displayName": "LIZA FOX",
      "photoUrl": "https://lh3.googleusercontent.com/a-/AOh14GiROuqSKlugDuMLD2zosy5BB_CwYcn4VtpUBQP5=s64",
      "userId": "17049926938416427493"
     },
     "user_tz": -300
    },
    "id": "okdDBJrYFX4d",
    "outputId": "d5b3bab5-9cc7-4f2c-fa81-46dd742e4ffe"
   },
   "outputs": [
    {
     "data": {
      "text/plain": [
       "2.796450658779242"
      ]
     },
     "execution_count": 554,
     "metadata": {},
     "output_type": "execute_result"
    }
   ],
   "source": [
    "len(data_arc.query('reactive_power > active_power'))/len(data_arc)*100"
   ]
  },
  {
   "cell_type": "markdown",
   "metadata": {
    "id": "OgJ8G_wcFq1y"
   },
   "source": [
    "2,8% данных имеют сбой в энергетической системе, при которой реактивная мощность больше активной."
   ]
  },
  {
   "cell_type": "markdown",
   "metadata": {
    "id": "MwWQixxkF2qO"
   },
   "source": [
    "Для того, чтобы принимать решение об удалении выбросов, требуется дополнительное взаимодействие с бизнес-заказчиком, ведь данные сбои, аномалии  могут быть в пределах допуска производственного процесса. Так как мы этого наверняка не знаем, то удалять их не будем."
   ]
  },
  {
   "cell_type": "markdown",
   "metadata": {
    "id": "AfM5NtTRpLnl"
   },
   "source": [
    "Посчитаем полную мощность и добавим ее к данным:"
   ]
  },
  {
   "cell_type": "code",
   "execution_count": 555,
   "metadata": {
    "executionInfo": {
     "elapsed": 246,
     "status": "ok",
     "timestamp": 1637657159964,
     "user": {
      "displayName": "LIZA FOX",
      "photoUrl": "https://lh3.googleusercontent.com/a-/AOh14GiROuqSKlugDuMLD2zosy5BB_CwYcn4VtpUBQP5=s64",
      "userId": "17049926938416427493"
     },
     "user_tz": -300
    },
    "id": "S5xh-NwcpTxS"
   },
   "outputs": [],
   "source": [
    "data_arc['full_power'] = (data_arc['active_power']*data_arc['active_power'] + data_arc['reactive_power']*data_arc['reactive_power'])**0.5"
   ]
  },
  {
   "cell_type": "markdown",
   "metadata": {
    "id": "hvsqvwn4p28b"
   },
   "source": [
    "Проанализируем получившиеся значения полной мощности:"
   ]
  },
  {
   "cell_type": "code",
   "execution_count": 556,
   "metadata": {
    "colab": {
     "base_uri": "https://localhost:8080/",
     "height": 270
    },
    "executionInfo": {
     "elapsed": 249,
     "status": "ok",
     "timestamp": 1637657159968,
     "user": {
      "displayName": "LIZA FOX",
      "photoUrl": "https://lh3.googleusercontent.com/a-/AOh14GiROuqSKlugDuMLD2zosy5BB_CwYcn4VtpUBQP5=s64",
      "userId": "17049926938416427493"
     },
     "user_tz": -300
    },
    "id": "qCERATifp-1n",
    "outputId": "fdb3b5bc-ed74-4f67-fa68-5507ababb309"
   },
   "outputs": [
    {
     "data": {
      "image/png": "[encoded data removed]",
      "text/plain": [
       "<Figure size 432x288 with 1 Axes>"
      ]
     },
     "metadata": {
      "needs_background": "light"
     },
     "output_type": "display_data"
    }
   ],
   "source": [
    "data_arc.boxplot(column='full_power')\n",
    "plt.ylim(0, 5)\n",
    "plt.show()"
   ]
  },
  {
   "cell_type": "code",
   "execution_count": 557,
   "metadata": {
    "colab": {
     "base_uri": "https://localhost:8080/"
    },
    "executionInfo": {
     "elapsed": 249,
     "status": "ok",
     "timestamp": 1637657159969,
     "user": {
      "displayName": "LIZA FOX",
      "photoUrl": "https://lh3.googleusercontent.com/a-/AOh14GiROuqSKlugDuMLD2zosy5BB_CwYcn4VtpUBQP5=s64",
      "userId": "17049926938416427493"
     },
     "user_tz": -300
    },
    "id": "KUyRkmubqSAE",
    "outputId": "fff69c6c-7ee9-4b60-e61a-da4bd7d3cc7e"
   },
   "outputs": [
    {
     "data": {
      "text/plain": [
       "4.208120462489917"
      ]
     },
     "execution_count": 557,
     "metadata": {},
     "output_type": "execute_result"
    }
   ],
   "source": [
    "len(data_arc.query('full_power > 1.9'))/len(data_arc)*100"
   ]
  },
  {
   "cell_type": "markdown",
   "metadata": {
    "id": "Qkjg0ob-s8Nz"
   },
   "source": [
    "Количество значений, превышающих пределы \"верхнего уса\", для полной мощности составило 4,2%."
   ]
  },
  {
   "cell_type": "markdown",
   "metadata": {
    "id": "041BausDKC0X"
   },
   "source": [
    "Добавим в таблицу data_arc признак работы, полученный как произведение продолжительности нагрева электродами на полную мощность:"
   ]
  },
  {
   "cell_type": "code",
   "execution_count": 558,
   "metadata": {
    "executionInfo": {
     "elapsed": 247,
     "status": "ok",
     "timestamp": 1637657159972,
     "user": {
      "displayName": "LIZA FOX",
      "photoUrl": "https://lh3.googleusercontent.com/a-/AOh14GiROuqSKlugDuMLD2zosy5BB_CwYcn4VtpUBQP5=s64",
      "userId": "17049926938416427493"
     },
     "user_tz": -300
    },
    "id": "P8SzDO7myKG4"
   },
   "outputs": [],
   "source": [
    "data_arc['time_start'] = pd.to_timedelta(pd.to_datetime(data_arc['arc_heating_start']).dt.strftime('%d.%m.%Y H:%M:%S')).dt.total_seconds().astype(float)\n",
    "data_arc['time_stop'] = pd.to_timedelta(pd.to_datetime(data_arc['arc_heating_stop']).dt.strftime('%d.%m.%Y H:%M:%S')).dt.total_seconds().astype(float)\n",
    "data_arc['work'] = abs((data_arc['time_stop'] - data_arc['time_start']) * data_arc['full_power'])"
   ]
  },
  {
   "cell_type": "code",
   "execution_count": 559,
   "metadata": {
    "executionInfo": {
     "elapsed": 251,
     "status": "ok",
     "timestamp": 1637657159976,
     "user": {
      "displayName": "LIZA FOX",
      "photoUrl": "https://lh3.googleusercontent.com/a-/AOh14GiROuqSKlugDuMLD2zosy5BB_CwYcn4VtpUBQP5=s64",
      "userId": "17049926938416427493"
     },
     "user_tz": -300
    },
    "id": "nqYZIykG8rBe"
   },
   "outputs": [],
   "source": [
    "data_arc = data_arc.drop(['time_start', 'time_stop'], axis=1)"
   ]
  },
  {
   "cell_type": "markdown",
   "metadata": {
    "id": "txewjlDCKa2j"
   },
   "source": [
    "Проанализируем распределение данного признака:"
   ]
  },
  {
   "cell_type": "code",
   "execution_count": 560,
   "metadata": {
    "colab": {
     "base_uri": "https://localhost:8080/"
    },
    "executionInfo": {
     "elapsed": 254,
     "status": "ok",
     "timestamp": 1637657159979,
     "user": {
      "displayName": "LIZA FOX",
      "photoUrl": "https://lh3.googleusercontent.com/a-/AOh14GiROuqSKlugDuMLD2zosy5BB_CwYcn4VtpUBQP5=s64",
      "userId": "17049926938416427493"
     },
     "user_tz": -300
    },
    "id": "oN9rZvC6NWky",
    "outputId": "6333f7d1-1dd5-456c-d9fb-a05303059820"
   },
   "outputs": [
    {
     "data": {
      "text/plain": [
       "count    14876.000000\n",
       "mean       346.662861\n",
       "std       1059.888545\n",
       "min          0.403301\n",
       "25%         54.717501\n",
       "50%        105.936994\n",
       "75%        257.530840\n",
       "max      77990.055458\n",
       "Name: work, dtype: float64"
      ]
     },
     "execution_count": 560,
     "metadata": {},
     "output_type": "execute_result"
    }
   ],
   "source": [
    "data_arc['work'].describe()"
   ]
  },
  {
   "cell_type": "code",
   "execution_count": 561,
   "metadata": {
    "colab": {
     "base_uri": "https://localhost:8080/",
     "height": 269
    },
    "executionInfo": {
     "elapsed": 262,
     "status": "ok",
     "timestamp": 1637657159992,
     "user": {
      "displayName": "LIZA FOX",
      "photoUrl": "https://lh3.googleusercontent.com/a-/AOh14GiROuqSKlugDuMLD2zosy5BB_CwYcn4VtpUBQP5=s64",
      "userId": "17049926938416427493"
     },
     "user_tz": -300
    },
    "id": "M22epjo2Mia7",
    "outputId": "57906ff8-9ab1-4b8b-c22a-0d20395de502"
   },
   "outputs": [
    {
     "data": {
      "image/png": "[encoded data removed]",
      "text/plain": [
       "<Figure size 432x288 with 1 Axes>"
      ]
     },
     "metadata": {
      "needs_background": "light"
     },
     "output_type": "display_data"
    }
   ],
   "source": [
    "data_arc.boxplot(column='work')\n",
    "plt.ylim(0, 1000)\n",
    "plt.show()"
   ]
  },
  {
   "cell_type": "code",
   "execution_count": 562,
   "metadata": {
    "colab": {
     "base_uri": "https://localhost:8080/"
    },
    "executionInfo": {
     "elapsed": 266,
     "status": "ok",
     "timestamp": 1637657159997,
     "user": {
      "displayName": "LIZA FOX",
      "photoUrl": "https://lh3.googleusercontent.com/a-/AOh14GiROuqSKlugDuMLD2zosy5BB_CwYcn4VtpUBQP5=s64",
      "userId": "17049926938416427493"
     },
     "user_tz": -300
    },
    "id": "xTAkzFGg3h70",
    "outputId": "10caa428-eb6e-4a63-c71b-63b3508943df"
   },
   "outputs": [
    {
     "data": {
      "text/plain": [
       "10.473245496101102"
      ]
     },
     "execution_count": 562,
     "metadata": {},
     "output_type": "execute_result"
    }
   ],
   "source": [
    "len(data_arc.query('work > 550'))/len(data_arc)*100"
   ]
  },
  {
   "cell_type": "markdown",
   "metadata": {
    "id": "k2s9XKmrORN0"
   },
   "source": [
    "Получили давольно большой разброс значений. Оставим данный признак для обучения модели."
   ]
  },
  {
   "cell_type": "markdown",
   "metadata": {
    "id": "RIGefjHVOgpo"
   },
   "source": [
    "Просуммируем все значения для каждой партии в таблице data_arc, кроме начального и конечного времени нагрева, так как они учтены в признаке \"work\":"
   ]
  },
  {
   "cell_type": "code",
   "execution_count": 563,
   "metadata": {
    "executionInfo": {
     "elapsed": 295,
     "status": "ok",
     "timestamp": 1637657160031,
     "user": {
      "displayName": "LIZA FOX",
      "photoUrl": "https://lh3.googleusercontent.com/a-/AOh14GiROuqSKlugDuMLD2zosy5BB_CwYcn4VtpUBQP5=s64",
      "userId": "17049926938416427493"
     },
     "user_tz": -300
    },
    "id": "hkv75HXuUgdZ"
   },
   "outputs": [],
   "source": [
    "data_arc = data_arc.pivot_table(index='key', values=['active_power', 'reactive_power', 'full_power', 'work'], aggfunc='sum').reset_index()"
   ]
  },
  {
   "cell_type": "markdown",
   "metadata": {
    "id": "URfWAPUJq4VB"
   },
   "source": [
    "Проверим данные на адекватность с помощью таблиц data_bulk_time, data_wire_time и date_temp, исходя из логики того, что последний замер температуры должен быть после добавления сыпучих или проволочных материалов:"
   ]
  },
  {
   "cell_type": "code",
   "execution_count": 564,
   "metadata": {
    "executionInfo": {
     "elapsed": 299,
     "status": "ok",
     "timestamp": 1637657160035,
     "user": {
      "displayName": "LIZA FOX",
      "photoUrl": "https://lh3.googleusercontent.com/a-/AOh14GiROuqSKlugDuMLD2zosy5BB_CwYcn4VtpUBQP5=s64",
      "userId": "17049926938416427493"
     },
     "user_tz": -300
    },
    "id": "lI9IAiOzt5Uc"
   },
   "outputs": [],
   "source": [
    "data_union_time = data_bulk_time.merge(data_wire_time, on='key', how='inner')"
   ]
  },
  {
   "cell_type": "code",
   "execution_count": 565,
   "metadata": {
    "executionInfo": {
     "elapsed": 299,
     "status": "ok",
     "timestamp": 1637657160036,
     "user": {
      "displayName": "LIZA FOX",
      "photoUrl": "https://lh3.googleusercontent.com/a-/AOh14GiROuqSKlugDuMLD2zosy5BB_CwYcn4VtpUBQP5=s64",
      "userId": "17049926938416427493"
     },
     "user_tz": -300
    },
    "id": "sEk8ZqOz7ewt"
   },
   "outputs": [],
   "source": [
    "cols = ['bulk_1','bulk_2','bulk_3','bulk_4','bulk_5','bulk_6','bulk_7','bulk_8','bulk_9','bulk_10','bulk_11', \n",
    "        'bulk_12','bulk_13','bulk_14','bulk_15', 'wire_1','wire_2',\n",
    "        'wire_3','wire_4','wire_5','wire_6','wire_7','wire_8','wire_9']\n",
    "data_union_time['last_bulk_or_wire_time'] = data_union_time[cols].max(axis=1)"
   ]
  },
  {
   "cell_type": "code",
   "execution_count": 566,
   "metadata": {
    "executionInfo": {
     "elapsed": 299,
     "status": "ok",
     "timestamp": 1637657160036,
     "user": {
      "displayName": "LIZA FOX",
      "photoUrl": "https://lh3.googleusercontent.com/a-/AOh14GiROuqSKlugDuMLD2zosy5BB_CwYcn4VtpUBQP5=s64",
      "userId": "17049926938416427493"
     },
     "user_tz": -300
    },
    "id": "O-3PBz6q7QQT"
   },
   "outputs": [],
   "source": [
    "data_temp_first = data_temp.pivot_table(index='key', values='measure_time', aggfunc='min').reset_index()"
   ]
  },
  {
   "cell_type": "code",
   "execution_count": 567,
   "metadata": {
    "executionInfo": {
     "elapsed": 299,
     "status": "ok",
     "timestamp": 1637657160037,
     "user": {
      "displayName": "LIZA FOX",
      "photoUrl": "https://lh3.googleusercontent.com/a-/AOh14GiROuqSKlugDuMLD2zosy5BB_CwYcn4VtpUBQP5=s64",
      "userId": "17049926938416427493"
     },
     "user_tz": -300
    },
    "id": "GppIBAyx7VvY"
   },
   "outputs": [],
   "source": [
    "data_temp_first.columns = ['key', 'min_measure_time']"
   ]
  },
  {
   "cell_type": "code",
   "execution_count": 568,
   "metadata": {
    "executionInfo": {
     "elapsed": 300,
     "status": "ok",
     "timestamp": 1637657160038,
     "user": {
      "displayName": "LIZA FOX",
      "photoUrl": "https://lh3.googleusercontent.com/a-/AOh14GiROuqSKlugDuMLD2zosy5BB_CwYcn4VtpUBQP5=s64",
      "userId": "17049926938416427493"
     },
     "user_tz": -300
    },
    "id": "lQeNq8U1ARnE"
   },
   "outputs": [],
   "source": [
    "data_temp_last = data_temp.pivot_table(index='key', values='measure_time', aggfunc='max').reset_index()"
   ]
  },
  {
   "cell_type": "code",
   "execution_count": 569,
   "metadata": {
    "executionInfo": {
     "elapsed": 299,
     "status": "ok",
     "timestamp": 1637657160038,
     "user": {
      "displayName": "LIZA FOX",
      "photoUrl": "https://lh3.googleusercontent.com/a-/AOh14GiROuqSKlugDuMLD2zosy5BB_CwYcn4VtpUBQP5=s64",
      "userId": "17049926938416427493"
     },
     "user_tz": -300
    },
    "id": "hkV9LGgThbl6"
   },
   "outputs": [],
   "source": [
    "data_temp_last.columns = ['key', 'max_measure_time']"
   ]
  },
  {
   "cell_type": "code",
   "execution_count": 570,
   "metadata": {
    "executionInfo": {
     "elapsed": 301,
     "status": "ok",
     "timestamp": 1637657160040,
     "user": {
      "displayName": "LIZA FOX",
      "photoUrl": "https://lh3.googleusercontent.com/a-/AOh14GiROuqSKlugDuMLD2zosy5BB_CwYcn4VtpUBQP5=s64",
      "userId": "17049926938416427493"
     },
     "user_tz": -300
    },
    "id": "SJcJXz2I85XZ"
   },
   "outputs": [],
   "source": [
    "data_temp_new = data_temp_first.merge(data_temp_last)"
   ]
  },
  {
   "cell_type": "code",
   "execution_count": 571,
   "metadata": {
    "executionInfo": {
     "elapsed": 768,
     "status": "ok",
     "timestamp": 1637657160508,
     "user": {
      "displayName": "LIZA FOX",
      "photoUrl": "https://lh3.googleusercontent.com/a-/AOh14GiROuqSKlugDuMLD2zosy5BB_CwYcn4VtpUBQP5=s64",
      "userId": "17049926938416427493"
     },
     "user_tz": -300
    },
    "id": "M5D1hhsKiBmb"
   },
   "outputs": [],
   "source": [
    "data_union_time = data_union_time.merge(data_temp_new, on='key', how='inner')"
   ]
  },
  {
   "cell_type": "code",
   "execution_count": 572,
   "metadata": {
    "executionInfo": {
     "elapsed": 220,
     "status": "ok",
     "timestamp": 1637657160510,
     "user": {
      "displayName": "LIZA FOX",
      "photoUrl": "https://lh3.googleusercontent.com/a-/AOh14GiROuqSKlugDuMLD2zosy5BB_CwYcn4VtpUBQP5=s64",
      "userId": "17049926938416427493"
     },
     "user_tz": -300
    },
    "id": "MGFJD3bUjvUK"
   },
   "outputs": [],
   "source": [
    "data_union_time['compare_time'] = data_union_time['last_bulk_or_wire_time'] < data_union_time['max_measure_time']"
   ]
  },
  {
   "cell_type": "code",
   "execution_count": 573,
   "metadata": {
    "colab": {
     "base_uri": "https://localhost:8080/"
    },
    "executionInfo": {
     "elapsed": 220,
     "status": "ok",
     "timestamp": 1637657160511,
     "user": {
      "displayName": "LIZA FOX",
      "photoUrl": "https://lh3.googleusercontent.com/a-/AOh14GiROuqSKlugDuMLD2zosy5BB_CwYcn4VtpUBQP5=s64",
      "userId": "17049926938416427493"
     },
     "user_tz": -300
    },
    "id": "qPwXs0o_jeY6",
    "outputId": "52266b67-e057-483e-ee78-05549b646cb3"
   },
   "outputs": [
    {
     "data": {
      "text/plain": [
       "True     2333\n",
       "False     691\n",
       "Name: compare_time, dtype: int64"
      ]
     },
     "execution_count": 573,
     "metadata": {},
     "output_type": "execute_result"
    }
   ],
   "source": [
    "data_union_time['compare_time'].value_counts()"
   ]
  },
  {
   "cell_type": "markdown",
   "metadata": {
    "id": "LM2xqUk0mq_9"
   },
   "source": [
    "Для 691 партии не произведено замера температуры после засыпания сыпучего или проволочного материала, удалим данные строки из выборки:"
   ]
  },
  {
   "cell_type": "code",
   "execution_count": 574,
   "metadata": {
    "executionInfo": {
     "elapsed": 31,
     "status": "ok",
     "timestamp": 1637657160511,
     "user": {
      "displayName": "LIZA FOX",
      "photoUrl": "https://lh3.googleusercontent.com/a-/AOh14GiROuqSKlugDuMLD2zosy5BB_CwYcn4VtpUBQP5=s64",
      "userId": "17049926938416427493"
     },
     "user_tz": -300
    },
    "id": "p41h3SJ3m_Z3"
   },
   "outputs": [],
   "source": [
    "data_union_time = data_union_time.drop(data_union_time.query('compare_time == False').index)"
   ]
  },
  {
   "cell_type": "markdown",
   "metadata": {
    "id": "qVmP4j7mrAhs"
   },
   "source": [
    "### Объединение данных"
   ]
  },
  {
   "cell_type": "markdown",
   "metadata": {
    "id": "Unehz0plZ_WH"
   },
   "source": [
    "Для дальнейшего моделирования объединим данные в одну выборку по ключевому полю 'key', но перед этим сгруппируем данные в таблице data_temp_union с целевым признаком последнего и первого замеров температуры:"
   ]
  },
  {
   "cell_type": "code",
   "execution_count": 575,
   "metadata": {
    "executionInfo": {
     "elapsed": 31,
     "status": "ok",
     "timestamp": 1637657160512,
     "user": {
      "displayName": "LIZA FOX",
      "photoUrl": "https://lh3.googleusercontent.com/a-/AOh14GiROuqSKlugDuMLD2zosy5BB_CwYcn4VtpUBQP5=s64",
      "userId": "17049926938416427493"
     },
     "user_tz": -300
    },
    "id": "NmvXYaw1DLPP"
   },
   "outputs": [],
   "source": [
    "data_temp_max = data_temp_new.merge(data_temp)\n",
    "data_temp_max['new'] = data_temp_max['max_measure_time'] == data_temp_max['measure_time']\n",
    "data_temp_max = data_temp_max.drop(data_temp_max.query('new == False').index)\n",
    "data_temp_max = data_temp_max.drop('new', axis=1)"
   ]
  },
  {
   "cell_type": "code",
   "execution_count": 576,
   "metadata": {
    "executionInfo": {
     "elapsed": 33,
     "status": "ok",
     "timestamp": 1637657160514,
     "user": {
      "displayName": "LIZA FOX",
      "photoUrl": "https://lh3.googleusercontent.com/a-/AOh14GiROuqSKlugDuMLD2zosy5BB_CwYcn4VtpUBQP5=s64",
      "userId": "17049926938416427493"
     },
     "user_tz": -300
    },
    "id": "gfHIS4F9JErA"
   },
   "outputs": [],
   "source": [
    "data_temp_min = data_temp_new.merge(data_temp)\n",
    "data_temp_min['new'] = data_temp_min['min_measure_time'] == data_temp_min['measure_time']\n",
    "data_temp_min = data_temp_min.drop(data_temp_min.query('new == False').index)\n",
    "data_temp_min = data_temp_min.drop('new', axis=1)"
   ]
  },
  {
   "cell_type": "code",
   "execution_count": 577,
   "metadata": {
    "executionInfo": {
     "elapsed": 31,
     "status": "ok",
     "timestamp": 1637657160514,
     "user": {
      "displayName": "LIZA FOX",
      "photoUrl": "https://lh3.googleusercontent.com/a-/AOh14GiROuqSKlugDuMLD2zosy5BB_CwYcn4VtpUBQP5=s64",
      "userId": "17049926938416427493"
     },
     "user_tz": -300
    },
    "id": "Xea0ItNPMG8o"
   },
   "outputs": [],
   "source": [
    "data_temp_union = data_temp_max.merge(data_temp_min, on='key', how = 'outer')"
   ]
  },
  {
   "cell_type": "code",
   "execution_count": 578,
   "metadata": {
    "executionInfo": {
     "elapsed": 36,
     "status": "ok",
     "timestamp": 1637657160519,
     "user": {
      "displayName": "LIZA FOX",
      "photoUrl": "https://lh3.googleusercontent.com/a-/AOh14GiROuqSKlugDuMLD2zosy5BB_CwYcn4VtpUBQP5=s64",
      "userId": "17049926938416427493"
     },
     "user_tz": -300
    },
    "id": "VqK3ca0_MpxE"
   },
   "outputs": [],
   "source": [
    "data_temp_union = data_temp_union.drop(['min_measure_time_x', 'max_measure_time_x', 'measure_time_x', 'min_measure_time_y', 'max_measure_time_y', 'measure_time_y'], axis=1)"
   ]
  },
  {
   "cell_type": "markdown",
   "metadata": {
    "id": "JJPH8Of1E_gb"
   },
   "source": [
    "Объединим данные:"
   ]
  },
  {
   "cell_type": "code",
   "execution_count": 579,
   "metadata": {
    "executionInfo": {
     "elapsed": 36,
     "status": "ok",
     "timestamp": 1637657160520,
     "user": {
      "displayName": "LIZA FOX",
      "photoUrl": "https://lh3.googleusercontent.com/a-/AOh14GiROuqSKlugDuMLD2zosy5BB_CwYcn4VtpUBQP5=s64",
      "userId": "17049926938416427493"
     },
     "user_tz": -300
    },
    "id": "if_9M7Sbq_Ad"
   },
   "outputs": [],
   "source": [
    "df = data_arc.merge(data_bulk)\n",
    "df = df.merge(data_wire)\n",
    "df = df.merge(data_gas)\n",
    "df = df.merge(data_temp_union)"
   ]
  },
  {
   "cell_type": "markdown",
   "metadata": {
    "id": "bRVJuxA0OHAN"
   },
   "source": [
    "Объединим датафрейм для модели df с таблицей data_union_time, из которой удалены партии без конечного замера температуры:"
   ]
  },
  {
   "cell_type": "code",
   "execution_count": 580,
   "metadata": {
    "executionInfo": {
     "elapsed": 36,
     "status": "ok",
     "timestamp": 1637657160520,
     "user": {
      "displayName": "LIZA FOX",
      "photoUrl": "https://lh3.googleusercontent.com/a-/AOh14GiROuqSKlugDuMLD2zosy5BB_CwYcn4VtpUBQP5=s64",
      "userId": "17049926938416427493"
     },
     "user_tz": -300
    },
    "id": "pKf-jamXNI1x"
   },
   "outputs": [],
   "source": [
    "data_union_time = data_union_time['key']"
   ]
  },
  {
   "cell_type": "code",
   "execution_count": 581,
   "metadata": {
    "executionInfo": {
     "elapsed": 36,
     "status": "ok",
     "timestamp": 1637657160521,
     "user": {
      "displayName": "LIZA FOX",
      "photoUrl": "https://lh3.googleusercontent.com/a-/AOh14GiROuqSKlugDuMLD2zosy5BB_CwYcn4VtpUBQP5=s64",
      "userId": "17049926938416427493"
     },
     "user_tz": -300
    },
    "id": "MHefDAjBNaxO"
   },
   "outputs": [],
   "source": [
    "df = df.merge(data_union_time, on='key', how='right')"
   ]
  },
  {
   "cell_type": "markdown",
   "metadata": {
    "id": "zHmIZyWBZJSG"
   },
   "source": [
    "### Получение итогового датафрейма"
   ]
  },
  {
   "cell_type": "code",
   "execution_count": 582,
   "metadata": {
    "executionInfo": {
     "elapsed": 37,
     "status": "ok",
     "timestamp": 1637657160522,
     "user": {
      "displayName": "LIZA FOX",
      "photoUrl": "https://lh3.googleusercontent.com/a-/AOh14GiROuqSKlugDuMLD2zosy5BB_CwYcn4VtpUBQP5=s64",
      "userId": "17049926938416427493"
     },
     "user_tz": -300
    },
    "id": "DiRZfG-Bd3j0"
   },
   "outputs": [],
   "source": [
    "df = df.drop('key', axis=1)"
   ]
  },
  {
   "cell_type": "code",
   "execution_count": 583,
   "metadata": {
    "executionInfo": {
     "elapsed": 37,
     "status": "ok",
     "timestamp": 1637657160523,
     "user": {
      "displayName": "LIZA FOX",
      "photoUrl": "https://lh3.googleusercontent.com/a-/AOh14GiROuqSKlugDuMLD2zosy5BB_CwYcn4VtpUBQP5=s64",
      "userId": "17049926938416427493"
     },
     "user_tz": -300
    },
    "id": "n7d7E71_gpFi"
   },
   "outputs": [],
   "source": [
    "df = df.dropna()"
   ]
  },
  {
   "cell_type": "code",
   "execution_count": 584,
   "metadata": {
    "colab": {
     "base_uri": "https://localhost:8080/",
     "height": 1000
    },
    "executionInfo": {
     "elapsed": 5793,
     "status": "ok",
     "timestamp": 1637657166279,
     "user": {
      "displayName": "LIZA FOX",
      "photoUrl": "https://lh3.googleusercontent.com/a-/AOh14GiROuqSKlugDuMLD2zosy5BB_CwYcn4VtpUBQP5=s64",
      "userId": "17049926938416427493"
     },
     "user_tz": -300
    },
    "id": "3lrHZMs-sMMh",
    "outputId": "27982fb7-204f-48d5-c744-6718803daa24"
   },
   "outputs": [
    {
     "data": {
      "image/png": "[encoded data removed]",
      "text/plain": [
       "<Figure size 2160x2160 with 2 Axes>"
      ]
     },
     "metadata": {
      "needs_background": "light"
     },
     "output_type": "display_data"
    }
   ],
   "source": [
    "corr = df.corr()\n",
    "plt.figure(figsize=(30, 30))\n",
    "sns.heatmap(corr, center=0, annot=True, cmap='Greens', square=True, linewidths=.5, cbar_kws={\"shrink\": .5})\n",
    "plt.title('Корреляция признаков', size=16)\n",
    "plt.show()"
   ]
  },
  {
   "cell_type": "markdown",
   "metadata": {
    "id": "Pb0Ww-zIzFix"
   },
   "source": [
    "Наблюдаем сильную обратную корреляцию между полной мощностью и реактивной, удалим из финальной выборки реактивную мощность:"
   ]
  },
  {
   "cell_type": "code",
   "execution_count": 585,
   "metadata": {
    "executionInfo": {
     "elapsed": 53,
     "status": "ok",
     "timestamp": 1637657166281,
     "user": {
      "displayName": "LIZA FOX",
      "photoUrl": "https://lh3.googleusercontent.com/a-/AOh14GiROuqSKlugDuMLD2zosy5BB_CwYcn4VtpUBQP5=s64",
      "userId": "17049926938416427493"
     },
     "user_tz": -300
    },
    "id": "YE1n_vayziEU"
   },
   "outputs": [],
   "source": [
    "df = df.drop('reactive_power', axis=1)"
   ]
  },
  {
   "cell_type": "markdown",
   "metadata": {
    "id": "Ged6XdfMzteS"
   },
   "source": [
    "Финальная выборка:"
   ]
  },
  {
   "cell_type": "code",
   "execution_count": 586,
   "metadata": {
    "colab": {
     "base_uri": "https://localhost:8080/",
     "height": 224
    },
    "executionInfo": {
     "elapsed": 52,
     "status": "ok",
     "timestamp": 1637657166281,
     "user": {
      "displayName": "LIZA FOX",
      "photoUrl": "https://lh3.googleusercontent.com/a-/AOh14GiROuqSKlugDuMLD2zosy5BB_CwYcn4VtpUBQP5=s64",
      "userId": "17049926938416427493"
     },
     "user_tz": -300
    },
    "id": "4RghNEyszwP6",
    "outputId": "a1f43561-a3e6-476a-a07c-fa0cbbd54847"
   },
   "outputs": [
    {
     "data": {
      "text/html": [
       "<div>\n",
       "<style scoped>\n",
       "    .dataframe tbody tr th:only-of-type {\n",
       "        vertical-align: middle;\n",
       "    }\n",
       "\n",
       "    .dataframe tbody tr th {\n",
       "        vertical-align: top;\n",
       "    }\n",
       "\n",
       "    .dataframe thead th {\n",
       "        text-align: right;\n",
       "    }\n",
       "</style>\n",
       "<table border=\"1\" class=\"dataframe\">\n",
       "  <thead>\n",
       "    <tr style=\"text-align: right;\">\n",
       "      <th></th>\n",
       "      <th>active_power</th>\n",
       "      <th>full_power</th>\n",
       "      <th>work</th>\n",
       "      <th>bulk_1</th>\n",
       "      <th>bulk_2</th>\n",
       "      <th>bulk_3</th>\n",
       "      <th>bulk_4</th>\n",
       "      <th>bulk_5</th>\n",
       "      <th>bulk_6</th>\n",
       "      <th>bulk_7</th>\n",
       "      <th>bulk_8</th>\n",
       "      <th>bulk_9</th>\n",
       "      <th>bulk_10</th>\n",
       "      <th>bulk_11</th>\n",
       "      <th>bulk_12</th>\n",
       "      <th>bulk_13</th>\n",
       "      <th>bulk_14</th>\n",
       "      <th>bulk_15</th>\n",
       "      <th>wire_1</th>\n",
       "      <th>wire_2</th>\n",
       "      <th>wire_3</th>\n",
       "      <th>wire_4</th>\n",
       "      <th>wire_5</th>\n",
       "      <th>wire_6</th>\n",
       "      <th>wire_7</th>\n",
       "      <th>wire_8</th>\n",
       "      <th>wire_9</th>\n",
       "      <th>gas</th>\n",
       "      <th>temperature_x</th>\n",
       "      <th>temperature_y</th>\n",
       "    </tr>\n",
       "  </thead>\n",
       "  <tbody>\n",
       "    <tr>\n",
       "      <th>0</th>\n",
       "      <td>4.878147</td>\n",
       "      <td>5.826395</td>\n",
       "      <td>1442.377754</td>\n",
       "      <td>0.0</td>\n",
       "      <td>0.0</td>\n",
       "      <td>0.0</td>\n",
       "      <td>43.0</td>\n",
       "      <td>0.0</td>\n",
       "      <td>0.0</td>\n",
       "      <td>0.0</td>\n",
       "      <td>0.0</td>\n",
       "      <td>0.0</td>\n",
       "      <td>0.0</td>\n",
       "      <td>0.0</td>\n",
       "      <td>206.0</td>\n",
       "      <td>0.0</td>\n",
       "      <td>150.0</td>\n",
       "      <td>154.0</td>\n",
       "      <td>60.059998</td>\n",
       "      <td>0.00000</td>\n",
       "      <td>0.0</td>\n",
       "      <td>0.0</td>\n",
       "      <td>0.0</td>\n",
       "      <td>0.0</td>\n",
       "      <td>0.0</td>\n",
       "      <td>0.0</td>\n",
       "      <td>0.0</td>\n",
       "      <td>29.749986</td>\n",
       "      <td>1613.0</td>\n",
       "      <td>1571.0</td>\n",
       "    </tr>\n",
       "    <tr>\n",
       "      <th>1</th>\n",
       "      <td>3.052598</td>\n",
       "      <td>3.649216</td>\n",
       "      <td>881.233565</td>\n",
       "      <td>0.0</td>\n",
       "      <td>0.0</td>\n",
       "      <td>0.0</td>\n",
       "      <td>73.0</td>\n",
       "      <td>0.0</td>\n",
       "      <td>0.0</td>\n",
       "      <td>0.0</td>\n",
       "      <td>0.0</td>\n",
       "      <td>0.0</td>\n",
       "      <td>0.0</td>\n",
       "      <td>0.0</td>\n",
       "      <td>206.0</td>\n",
       "      <td>0.0</td>\n",
       "      <td>149.0</td>\n",
       "      <td>154.0</td>\n",
       "      <td>96.052315</td>\n",
       "      <td>0.00000</td>\n",
       "      <td>0.0</td>\n",
       "      <td>0.0</td>\n",
       "      <td>0.0</td>\n",
       "      <td>0.0</td>\n",
       "      <td>0.0</td>\n",
       "      <td>0.0</td>\n",
       "      <td>0.0</td>\n",
       "      <td>12.555561</td>\n",
       "      <td>1602.0</td>\n",
       "      <td>1581.0</td>\n",
       "    </tr>\n",
       "    <tr>\n",
       "      <th>2</th>\n",
       "      <td>2.525882</td>\n",
       "      <td>2.989534</td>\n",
       "      <td>525.066777</td>\n",
       "      <td>0.0</td>\n",
       "      <td>0.0</td>\n",
       "      <td>0.0</td>\n",
       "      <td>34.0</td>\n",
       "      <td>0.0</td>\n",
       "      <td>0.0</td>\n",
       "      <td>0.0</td>\n",
       "      <td>0.0</td>\n",
       "      <td>0.0</td>\n",
       "      <td>0.0</td>\n",
       "      <td>0.0</td>\n",
       "      <td>205.0</td>\n",
       "      <td>0.0</td>\n",
       "      <td>152.0</td>\n",
       "      <td>153.0</td>\n",
       "      <td>91.160157</td>\n",
       "      <td>0.00000</td>\n",
       "      <td>0.0</td>\n",
       "      <td>0.0</td>\n",
       "      <td>0.0</td>\n",
       "      <td>0.0</td>\n",
       "      <td>0.0</td>\n",
       "      <td>0.0</td>\n",
       "      <td>0.0</td>\n",
       "      <td>28.554793</td>\n",
       "      <td>1599.0</td>\n",
       "      <td>1596.0</td>\n",
       "    </tr>\n",
       "    <tr>\n",
       "      <th>3</th>\n",
       "      <td>3.209250</td>\n",
       "      <td>3.814962</td>\n",
       "      <td>796.911309</td>\n",
       "      <td>0.0</td>\n",
       "      <td>0.0</td>\n",
       "      <td>0.0</td>\n",
       "      <td>81.0</td>\n",
       "      <td>0.0</td>\n",
       "      <td>0.0</td>\n",
       "      <td>0.0</td>\n",
       "      <td>0.0</td>\n",
       "      <td>0.0</td>\n",
       "      <td>0.0</td>\n",
       "      <td>0.0</td>\n",
       "      <td>207.0</td>\n",
       "      <td>0.0</td>\n",
       "      <td>153.0</td>\n",
       "      <td>154.0</td>\n",
       "      <td>89.063515</td>\n",
       "      <td>0.00000</td>\n",
       "      <td>0.0</td>\n",
       "      <td>0.0</td>\n",
       "      <td>0.0</td>\n",
       "      <td>0.0</td>\n",
       "      <td>0.0</td>\n",
       "      <td>0.0</td>\n",
       "      <td>0.0</td>\n",
       "      <td>18.841219</td>\n",
       "      <td>1625.0</td>\n",
       "      <td>1601.0</td>\n",
       "    </tr>\n",
       "    <tr>\n",
       "      <th>4</th>\n",
       "      <td>3.347173</td>\n",
       "      <td>4.035758</td>\n",
       "      <td>1199.137958</td>\n",
       "      <td>0.0</td>\n",
       "      <td>0.0</td>\n",
       "      <td>0.0</td>\n",
       "      <td>78.0</td>\n",
       "      <td>0.0</td>\n",
       "      <td>0.0</td>\n",
       "      <td>0.0</td>\n",
       "      <td>0.0</td>\n",
       "      <td>0.0</td>\n",
       "      <td>0.0</td>\n",
       "      <td>0.0</td>\n",
       "      <td>203.0</td>\n",
       "      <td>0.0</td>\n",
       "      <td>151.0</td>\n",
       "      <td>152.0</td>\n",
       "      <td>89.238236</td>\n",
       "      <td>9.11456</td>\n",
       "      <td>0.0</td>\n",
       "      <td>0.0</td>\n",
       "      <td>0.0</td>\n",
       "      <td>0.0</td>\n",
       "      <td>0.0</td>\n",
       "      <td>0.0</td>\n",
       "      <td>0.0</td>\n",
       "      <td>5.413692</td>\n",
       "      <td>1602.0</td>\n",
       "      <td>1576.0</td>\n",
       "    </tr>\n",
       "  </tbody>\n",
       "</table>\n",
       "</div>"
      ],
      "text/plain": [
       "   active_power  full_power  ...  temperature_x  temperature_y\n",
       "0      4.878147    5.826395  ...         1613.0         1571.0\n",
       "1      3.052598    3.649216  ...         1602.0         1581.0\n",
       "2      2.525882    2.989534  ...         1599.0         1596.0\n",
       "3      3.209250    3.814962  ...         1625.0         1601.0\n",
       "4      3.347173    4.035758  ...         1602.0         1576.0\n",
       "\n",
       "[5 rows x 30 columns]"
      ]
     },
     "execution_count": 586,
     "metadata": {},
     "output_type": "execute_result"
    }
   ],
   "source": [
    "df.head()"
   ]
  },
  {
   "cell_type": "markdown",
   "metadata": {
    "id": "xvmPkk_ZaGol"
   },
   "source": [
    "## Моделирование"
   ]
  },
  {
   "cell_type": "markdown",
   "metadata": {
    "id": "oTcefKFib4GN"
   },
   "source": [
    "Разбьем данные на выбороки:"
   ]
  },
  {
   "cell_type": "code",
   "execution_count": 587,
   "metadata": {
    "executionInfo": {
     "elapsed": 50,
     "status": "ok",
     "timestamp": 1637657166282,
     "user": {
      "displayName": "LIZA FOX",
      "photoUrl": "https://lh3.googleusercontent.com/a-/AOh14GiROuqSKlugDuMLD2zosy5BB_CwYcn4VtpUBQP5=s64",
      "userId": "17049926938416427493"
     },
     "user_tz": -300
    },
    "id": "YLXQhOEmMtC3"
   },
   "outputs": [],
   "source": [
    "SEED = 42"
   ]
  },
  {
   "cell_type": "code",
   "execution_count": 588,
   "metadata": {
    "executionInfo": {
     "elapsed": 51,
     "status": "ok",
     "timestamp": 1637657166283,
     "user": {
      "displayName": "LIZA FOX",
      "photoUrl": "https://lh3.googleusercontent.com/a-/AOh14GiROuqSKlugDuMLD2zosy5BB_CwYcn4VtpUBQP5=s64",
      "userId": "17049926938416427493"
     },
     "user_tz": -300
    },
    "id": "xHIrZSy-cHix"
   },
   "outputs": [],
   "source": [
    "target = df['temperature_x']\n",
    "features = df.drop('temperature_x', axis=1)"
   ]
  },
  {
   "cell_type": "code",
   "execution_count": 589,
   "metadata": {
    "executionInfo": {
     "elapsed": 51,
     "status": "ok",
     "timestamp": 1637657166284,
     "user": {
      "displayName": "LIZA FOX",
      "photoUrl": "https://lh3.googleusercontent.com/a-/AOh14GiROuqSKlugDuMLD2zosy5BB_CwYcn4VtpUBQP5=s64",
      "userId": "17049926938416427493"
     },
     "user_tz": -300
    },
    "id": "2DJYiKQEUQO5"
   },
   "outputs": [],
   "source": [
    "features_train, features_test, target_train, target_test = train_test_split(features, target, test_size=.2, random_state=SEED)"
   ]
  },
  {
   "cell_type": "code",
   "execution_count": 590,
   "metadata": {
    "colab": {
     "base_uri": "https://localhost:8080/"
    },
    "executionInfo": {
     "elapsed": 52,
     "status": "ok",
     "timestamp": 1637657166285,
     "user": {
      "displayName": "LIZA FOX",
      "photoUrl": "https://lh3.googleusercontent.com/a-/AOh14GiROuqSKlugDuMLD2zosy5BB_CwYcn4VtpUBQP5=s64",
      "userId": "17049926938416427493"
     },
     "user_tz": -300
    },
    "id": "ZbjFhrOxUYM2",
    "outputId": "9cf9d0c8-7bd5-4677-845b-d7ea47cc9c72"
   },
   "outputs": [
    {
     "data": {
      "text/plain": [
       "((1864, 29), (466, 29), (1864,), (466,))"
      ]
     },
     "execution_count": 590,
     "metadata": {},
     "output_type": "execute_result"
    }
   ],
   "source": [
    "features_train.shape, features_test.shape, target_train.shape, target_test.shape"
   ]
  },
  {
   "cell_type": "markdown",
   "metadata": {
    "id": "kXleMgPTdgHZ"
   },
   "source": [
    "Масштабируем признаки:"
   ]
  },
  {
   "cell_type": "code",
   "execution_count": 591,
   "metadata": {
    "executionInfo": {
     "elapsed": 41,
     "status": "ok",
     "timestamp": 1637657166285,
     "user": {
      "displayName": "LIZA FOX",
      "photoUrl": "https://lh3.googleusercontent.com/a-/AOh14GiROuqSKlugDuMLD2zosy5BB_CwYcn4VtpUBQP5=s64",
      "userId": "17049926938416427493"
     },
     "user_tz": -300
    },
    "id": "uX3J6Rg9dsGV"
   },
   "outputs": [],
   "source": [
    "numeric = features_train.columns"
   ]
  },
  {
   "cell_type": "code",
   "execution_count": 592,
   "metadata": {
    "executionInfo": {
     "elapsed": 42,
     "status": "ok",
     "timestamp": 1637657166286,
     "user": {
      "displayName": "LIZA FOX",
      "photoUrl": "https://lh3.googleusercontent.com/a-/AOh14GiROuqSKlugDuMLD2zosy5BB_CwYcn4VtpUBQP5=s64",
      "userId": "17049926938416427493"
     },
     "user_tz": -300
    },
    "id": "YJNZ58jNeiOe"
   },
   "outputs": [],
   "source": [
    "scaler = StandardScaler()\n",
    "scaler.fit(features_train[numeric])\n",
    "\n",
    "features_train[numeric] = scaler.transform(features_train[numeric])\n",
    "features_test[numeric] = scaler.transform(features_test[numeric])"
   ]
  },
  {
   "cell_type": "code",
   "execution_count": 593,
   "metadata": {
    "executionInfo": {
     "elapsed": 41,
     "status": "ok",
     "timestamp": 1637657166286,
     "user": {
      "displayName": "LIZA FOX",
      "photoUrl": "https://lh3.googleusercontent.com/a-/AOh14GiROuqSKlugDuMLD2zosy5BB_CwYcn4VtpUBQP5=s64",
      "userId": "17049926938416427493"
     },
     "user_tz": -300
    },
    "id": "Qb_3wxUuObC5"
   },
   "outputs": [],
   "source": [
    "result = []"
   ]
  },
  {
   "cell_type": "markdown",
   "metadata": {
    "id": "n3ybFdime6q1"
   },
   "source": [
    "Построим модель градиентного бустинга с помощью библиотеки CatBoost:"
   ]
  },
  {
   "cell_type": "code",
   "execution_count": 594,
   "metadata": {
    "colab": {
     "base_uri": "https://localhost:8080/"
    },
    "executionInfo": {
     "elapsed": 531714,
     "status": "ok",
     "timestamp": 1637657697959,
     "user": {
      "displayName": "LIZA FOX",
      "photoUrl": "https://lh3.googleusercontent.com/a-/AOh14GiROuqSKlugDuMLD2zosy5BB_CwYcn4VtpUBQP5=s64",
      "userId": "17049926938416427493"
     },
     "user_tz": -300
    },
    "id": "VbCQfIs2Np_W",
    "outputId": "1ccd4a36-d02a-4278-c149-d27b16f35085"
   },
   "outputs": [
    {
     "name": "stdout",
     "output_type": "stream",
     "text": [
      "{'depth': 2, 'iterations': 250, 'learning_rate': 0.30000000000000004}\n",
      "\n"
     ]
    }
   ],
   "source": [
    "model_cat = CatBoostRegressor(loss_function='MAE', iterations=250, random_seed=5, verbose=False)\n",
    "parameters_cat = {'depth': [5, 11, 2], 'learning_rate': np.arange(.1, 1, .2), 'iterations': [30, 250]}\n",
    "cat_grid = GridSearchCV(model_cat, parameters_cat, cv = 5, n_jobs = -1)\n",
    "cat_grid.fit(features_train, target_train)\n",
    "print(cat_grid.best_params_, end = '\\n\\n')"
   ]
  },
  {
   "cell_type": "code",
   "execution_count": 595,
   "metadata": {
    "executionInfo": {
     "elapsed": 1469,
     "status": "ok",
     "timestamp": 1637657699401,
     "user": {
      "displayName": "LIZA FOX",
      "photoUrl": "https://lh3.googleusercontent.com/a-/AOh14GiROuqSKlugDuMLD2zosy5BB_CwYcn4VtpUBQP5=s64",
      "userId": "17049926938416427493"
     },
     "user_tz": -300
    },
    "id": "YcYnqBIAS8e_"
   },
   "outputs": [],
   "source": [
    "model_cat_best = CatBoostRegressor(depth = 5, learning_rate= 0.1, iterations = 250)\n",
    "model_cat_best.fit(features_train, target_train,  verbose=False)\n",
    "predict_cat = model_cat_best.predict(features_train)\n",
    "mae_cat = mean_absolute_error(target_train, predict_cat)"
   ]
  },
  {
   "cell_type": "code",
   "execution_count": 596,
   "metadata": {
    "executionInfo": {
     "elapsed": 27,
     "status": "ok",
     "timestamp": 1637657699402,
     "user": {
      "displayName": "LIZA FOX",
      "photoUrl": "https://lh3.googleusercontent.com/a-/AOh14GiROuqSKlugDuMLD2zosy5BB_CwYcn4VtpUBQP5=s64",
      "userId": "17049926938416427493"
     },
     "user_tz": -300
    },
    "id": "nvJS3LOgTa0a"
   },
   "outputs": [],
   "source": [
    "predict_cat_test = model_cat_best.predict(features_test)\n",
    "mae_cat_test = mean_absolute_error(target_test, predict_cat_test)"
   ]
  },
  {
   "cell_type": "code",
   "execution_count": 597,
   "metadata": {
    "executionInfo": {
     "elapsed": 26,
     "status": "ok",
     "timestamp": 1637657699403,
     "user": {
      "displayName": "LIZA FOX",
      "photoUrl": "https://lh3.googleusercontent.com/a-/AOh14GiROuqSKlugDuMLD2zosy5BB_CwYcn4VtpUBQP5=s64",
      "userId": "17049926938416427493"
     },
     "user_tz": -300
    },
    "id": "Cav1fMt9TIKJ"
   },
   "outputs": [],
   "source": [
    "result.append({'Модель': 'CatBoostRegressor', \n",
    "               'MAE_train': mae_cat,\n",
    "               'MAE_test': mae_cat_test})"
   ]
  },
  {
   "cell_type": "markdown",
   "metadata": {
    "id": "1ETkqwLYyeoq"
   },
   "source": [
    "Построим модель линейной регрессии:"
   ]
  },
  {
   "cell_type": "code",
   "execution_count": 598,
   "metadata": {
    "executionInfo": {
     "elapsed": 25,
     "status": "ok",
     "timestamp": 1637657699403,
     "user": {
      "displayName": "LIZA FOX",
      "photoUrl": "https://lh3.googleusercontent.com/a-/AOh14GiROuqSKlugDuMLD2zosy5BB_CwYcn4VtpUBQP5=s64",
      "userId": "17049926938416427493"
     },
     "user_tz": -300
    },
    "id": "607Anrr9ywtu"
   },
   "outputs": [],
   "source": [
    "model_lr = LinearRegression(n_jobs=-1)\n",
    "model_lr.fit(features_train, target_train)\n",
    "predict_lr = model_lr.predict(features_train)\n",
    "mae_lr = mean_absolute_error(target_train, predict_lr)"
   ]
  },
  {
   "cell_type": "code",
   "execution_count": 599,
   "metadata": {
    "executionInfo": {
     "elapsed": 25,
     "status": "ok",
     "timestamp": 1637657699404,
     "user": {
      "displayName": "LIZA FOX",
      "photoUrl": "https://lh3.googleusercontent.com/a-/AOh14GiROuqSKlugDuMLD2zosy5BB_CwYcn4VtpUBQP5=s64",
      "userId": "17049926938416427493"
     },
     "user_tz": -300
    },
    "id": "ERLzNb9WeGW-"
   },
   "outputs": [],
   "source": [
    "predict_lr_test = model_lr.predict(features_test)\n",
    "mae_lr_test = mean_absolute_error(target_test, predict_lr_test)"
   ]
  },
  {
   "cell_type": "code",
   "execution_count": 600,
   "metadata": {
    "executionInfo": {
     "elapsed": 25,
     "status": "ok",
     "timestamp": 1637657699404,
     "user": {
      "displayName": "LIZA FOX",
      "photoUrl": "https://lh3.googleusercontent.com/a-/AOh14GiROuqSKlugDuMLD2zosy5BB_CwYcn4VtpUBQP5=s64",
      "userId": "17049926938416427493"
     },
     "user_tz": -300
    },
    "id": "ykRHUMEVVnBZ"
   },
   "outputs": [],
   "source": [
    "result.append({'Модель': 'LinearRegression', \n",
    "               'MAE_train': mae_lr,\n",
    "               'MAE_test': mae_lr_test})"
   ]
  },
  {
   "cell_type": "markdown",
   "metadata": {
    "id": "cmf5GrGgjgc3"
   },
   "source": [
    "Построим модель градиентного бустинга с помощью библиотеки LightGBM:"
   ]
  },
  {
   "cell_type": "code",
   "execution_count": 601,
   "metadata": {
    "colab": {
     "base_uri": "https://localhost:8080/"
    },
    "executionInfo": {
     "elapsed": 76186,
     "status": "ok",
     "timestamp": 1637657775568,
     "user": {
      "displayName": "LIZA FOX",
      "photoUrl": "https://lh3.googleusercontent.com/a-/AOh14GiROuqSKlugDuMLD2zosy5BB_CwYcn4VtpUBQP5=s64",
      "userId": "17049926938416427493"
     },
     "user_tz": -300
    },
    "id": "iDLGOxFMjizN",
    "outputId": "b5ede3ab-505b-493f-839a-2e6fd4826c27"
   },
   "outputs": [
    {
     "name": "stdout",
     "output_type": "stream",
     "text": [
      "Fitting 2 folds for each of 30 candidates, totalling 60 fits\n",
      "BEST PARAMETERS: {'learning_rate': 0.1, 'max_depth': 4, 'n_estimators': 300}\n"
     ]
    }
   ],
   "source": [
    "parameters_lgbm = {'n_estimators': [300, 600, 1000, 1500, 2500],\n",
    "                   'max_depth':  [4, 9, 15],\n",
    "                   'learning_rate': [0.1, 0.3]}\n",
    "\n",
    "est = LGBMRegressor(boosting_type='gbdt', random_state=12345)\n",
    "\n",
    "gs = GridSearchCV(est, parameters_lgbm, scoring='neg_mean_absolute_error', cv=2, verbose=1)\n",
    "gs_results = gs.fit(features_train, target_train)\n",
    "print(\"BEST PARAMETERS: \" + str(gs_results.best_params_))"
   ]
  },
  {
   "cell_type": "code",
   "execution_count": 602,
   "metadata": {
    "executionInfo": {
     "elapsed": 25,
     "status": "ok",
     "timestamp": 1637657775571,
     "user": {
      "displayName": "LIZA FOX",
      "photoUrl": "https://lh3.googleusercontent.com/a-/AOh14GiROuqSKlugDuMLD2zosy5BB_CwYcn4VtpUBQP5=s64",
      "userId": "17049926938416427493"
     },
     "user_tz": -300
    },
    "id": "jA7NQ5lolMEe"
   },
   "outputs": [],
   "source": [
    "model_lgbm = LGBMRegressor(max_depth = 4, learning_rate = 0.1, n_estimators = 300)\n",
    "model_lgbm.fit(features_train, target_train)\n",
    "predict_lgbm = model_lgbm.predict(features_train)\n",
    "mae_lgbm = mean_absolute_error(target_train, predict_lgbm)"
   ]
  },
  {
   "cell_type": "code",
   "execution_count": 603,
   "metadata": {
    "executionInfo": {
     "elapsed": 25,
     "status": "ok",
     "timestamp": 1637657775572,
     "user": {
      "displayName": "LIZA FOX",
      "photoUrl": "https://lh3.googleusercontent.com/a-/AOh14GiROuqSKlugDuMLD2zosy5BB_CwYcn4VtpUBQP5=s64",
      "userId": "17049926938416427493"
     },
     "user_tz": -300
    },
    "id": "HXIzWx70ljEO"
   },
   "outputs": [],
   "source": [
    "predict_lgbm_test = model_lgbm.predict(features_test)\n",
    "mae_lgbm_test = mean_absolute_error(target_test, predict_lgbm_test)"
   ]
  },
  {
   "cell_type": "code",
   "execution_count": 604,
   "metadata": {
    "executionInfo": {
     "elapsed": 24,
     "status": "ok",
     "timestamp": 1637657775572,
     "user": {
      "displayName": "LIZA FOX",
      "photoUrl": "https://lh3.googleusercontent.com/a-/AOh14GiROuqSKlugDuMLD2zosy5BB_CwYcn4VtpUBQP5=s64",
      "userId": "17049926938416427493"
     },
     "user_tz": -300
    },
    "id": "vECjS6RDYFXw"
   },
   "outputs": [],
   "source": [
    "result.append({'Модель': 'LGBMRegressor', \n",
    "               'MAE_train': mae_lgbm,\n",
    "               'MAE_test': mae_lgbm_test})"
   ]
  },
  {
   "cell_type": "markdown",
   "metadata": {
    "id": "0V2sRxQElyY1"
   },
   "source": [
    "Построим модель случайного леса"
   ]
  },
  {
   "cell_type": "code",
   "execution_count": 605,
   "metadata": {
    "colab": {
     "base_uri": "https://localhost:8080/"
    },
    "executionInfo": {
     "elapsed": 73447,
     "status": "ok",
     "timestamp": 1637657848996,
     "user": {
      "displayName": "LIZA FOX",
      "photoUrl": "https://lh3.googleusercontent.com/a-/AOh14GiROuqSKlugDuMLD2zosy5BB_CwYcn4VtpUBQP5=s64",
      "userId": "17049926938416427493"
     },
     "user_tz": -300
    },
    "id": "fhewlfsdlz0z",
    "outputId": "f85dcf46-0dca-4f94-be8b-593112ee56b2"
   },
   "outputs": [
    {
     "name": "stdout",
     "output_type": "stream",
     "text": [
      "BEST PARAMETERS: {'n_estimators': 200, 'max_depth': 10}\n"
     ]
    }
   ],
   "source": [
    "model_rf = RandomForestRegressor()\n",
    "\n",
    "grid_rf = {'max_depth': [10, 40,100,300],\n",
    "           'n_estimators': [100, 200, 300, 500]}\n",
    "\n",
    "\n",
    "rf_random = RandomizedSearchCV(estimator = model_rf, param_distributions = grid_rf, scoring='neg_mean_absolute_error', cv = 3)\n",
    "rf_random_results = rf_random.fit(features_train, target_train)\n",
    "print(\"BEST PARAMETERS: \" + str(rf_random_results.best_params_))"
   ]
  },
  {
   "cell_type": "code",
   "execution_count": 606,
   "metadata": {
    "executionInfo": {
     "elapsed": 3216,
     "status": "ok",
     "timestamp": 1637657852193,
     "user": {
      "displayName": "LIZA FOX",
      "photoUrl": "https://lh3.googleusercontent.com/a-/AOh14GiROuqSKlugDuMLD2zosy5BB_CwYcn4VtpUBQP5=s64",
      "userId": "17049926938416427493"
     },
     "user_tz": -300
    },
    "id": "4xxOBaGynrOE"
   },
   "outputs": [],
   "source": [
    "model_rf = RandomForestRegressor(n_estimators= 300, max_depth= 10)\n",
    "model_rf.fit(features_train,target_train)\n",
    "predict_rf = model_rf.predict(features_train)\n",
    "mae_rf = mean_absolute_error(target_train, predict_rf)"
   ]
  },
  {
   "cell_type": "code",
   "execution_count": 607,
   "metadata": {
    "executionInfo": {
     "elapsed": 22,
     "status": "ok",
     "timestamp": 1637657852193,
     "user": {
      "displayName": "LIZA FOX",
      "photoUrl": "https://lh3.googleusercontent.com/a-/AOh14GiROuqSKlugDuMLD2zosy5BB_CwYcn4VtpUBQP5=s64",
      "userId": "17049926938416427493"
     },
     "user_tz": -300
    },
    "id": "9m926f2xn4TX"
   },
   "outputs": [],
   "source": [
    "predict_rf_test = model_rf.predict(features_test)\n",
    "mae_rf_test = mean_absolute_error(target_test, predict_rf_test)"
   ]
  },
  {
   "cell_type": "code",
   "execution_count": 608,
   "metadata": {
    "executionInfo": {
     "elapsed": 21,
     "status": "ok",
     "timestamp": 1637657852194,
     "user": {
      "displayName": "LIZA FOX",
      "photoUrl": "https://lh3.googleusercontent.com/a-/AOh14GiROuqSKlugDuMLD2zosy5BB_CwYcn4VtpUBQP5=s64",
      "userId": "17049926938416427493"
     },
     "user_tz": -300
    },
    "id": "yc_eWtU3YteD"
   },
   "outputs": [],
   "source": [
    "result.append({'Модель': 'RandomForestRegressor', \n",
    "               'MAE_train': mae_rf,\n",
    "               'MAE_test': mae_rf_test})"
   ]
  },
  {
   "cell_type": "markdown",
   "metadata": {
    "id": "mb_IIWPiZH_S"
   },
   "source": [
    "Проверим модели на адекватность с помощью DummyRegressor:"
   ]
  },
  {
   "cell_type": "code",
   "execution_count": 609,
   "metadata": {
    "executionInfo": {
     "elapsed": 21,
     "status": "ok",
     "timestamp": 1637657852195,
     "user": {
      "displayName": "LIZA FOX",
      "photoUrl": "https://lh3.googleusercontent.com/a-/AOh14GiROuqSKlugDuMLD2zosy5BB_CwYcn4VtpUBQP5=s64",
      "userId": "17049926938416427493"
     },
     "user_tz": -300
    },
    "id": "w5hORif4ZeTE"
   },
   "outputs": [],
   "source": [
    "dummy = DummyRegressor(strategy=\"median\")\n",
    "dummy.fit(features_train,target_train)\n",
    "predict_dr = dummy.predict(features_train)\n",
    "mae_dr = mean_absolute_error(target_train, predict_dr)"
   ]
  },
  {
   "cell_type": "code",
   "execution_count": 610,
   "metadata": {
    "executionInfo": {
     "elapsed": 17,
     "status": "ok",
     "timestamp": 1637657852196,
     "user": {
      "displayName": "LIZA FOX",
      "photoUrl": "https://lh3.googleusercontent.com/a-/AOh14GiROuqSKlugDuMLD2zosy5BB_CwYcn4VtpUBQP5=s64",
      "userId": "17049926938416427493"
     },
     "user_tz": -300
    },
    "id": "nE-D5SbWaq7s"
   },
   "outputs": [],
   "source": [
    "predict_dr_test = dummy.predict(features_test)\n",
    "mae_dr_test = mean_absolute_error(target_test, predict_dr_test)"
   ]
  },
  {
   "cell_type": "code",
   "execution_count": 611,
   "metadata": {
    "executionInfo": {
     "elapsed": 17,
     "status": "ok",
     "timestamp": 1637657852197,
     "user": {
      "displayName": "LIZA FOX",
      "photoUrl": "https://lh3.googleusercontent.com/a-/AOh14GiROuqSKlugDuMLD2zosy5BB_CwYcn4VtpUBQP5=s64",
      "userId": "17049926938416427493"
     },
     "user_tz": -300
    },
    "id": "pg2cJd0iaxux"
   },
   "outputs": [],
   "source": [
    "result.append({'Модель': 'DummyRegressor', \n",
    "               'MAE_train': mae_dr,\n",
    "               'MAE_test': mae_dr_test})"
   ]
  },
  {
   "cell_type": "code",
   "execution_count": 612,
   "metadata": {
    "colab": {
     "base_uri": "https://localhost:8080/",
     "height": 204
    },
    "executionInfo": {
     "elapsed": 17,
     "status": "ok",
     "timestamp": 1637657852197,
     "user": {
      "displayName": "LIZA FOX",
      "photoUrl": "https://lh3.googleusercontent.com/a-/AOh14GiROuqSKlugDuMLD2zosy5BB_CwYcn4VtpUBQP5=s64",
      "userId": "17049926938416427493"
     },
     "user_tz": -300
    },
    "id": "s6kyxPYMTEX4",
    "outputId": "27899e33-9026-468a-a219-5f5544b347a9"
   },
   "outputs": [
    {
     "data": {
      "text/html": [
       "<div>\n",
       "<style scoped>\n",
       "    .dataframe tbody tr th:only-of-type {\n",
       "        vertical-align: middle;\n",
       "    }\n",
       "\n",
       "    .dataframe tbody tr th {\n",
       "        vertical-align: top;\n",
       "    }\n",
       "\n",
       "    .dataframe thead th {\n",
       "        text-align: right;\n",
       "    }\n",
       "</style>\n",
       "<table border=\"1\" class=\"dataframe\">\n",
       "  <thead>\n",
       "    <tr style=\"text-align: right;\">\n",
       "      <th></th>\n",
       "      <th>Модель</th>\n",
       "      <th>MAE_train</th>\n",
       "      <th>MAE_test</th>\n",
       "    </tr>\n",
       "  </thead>\n",
       "  <tbody>\n",
       "    <tr>\n",
       "      <th>0</th>\n",
       "      <td>CatBoostRegressor</td>\n",
       "      <td>4.167702</td>\n",
       "      <td>6.210703</td>\n",
       "    </tr>\n",
       "    <tr>\n",
       "      <th>1</th>\n",
       "      <td>LinearRegression</td>\n",
       "      <td>5.941854</td>\n",
       "      <td>6.531638</td>\n",
       "    </tr>\n",
       "    <tr>\n",
       "      <th>2</th>\n",
       "      <td>LGBMRegressor</td>\n",
       "      <td>3.701508</td>\n",
       "      <td>6.503016</td>\n",
       "    </tr>\n",
       "    <tr>\n",
       "      <th>3</th>\n",
       "      <td>RandomForestRegressor</td>\n",
       "      <td>3.570341</td>\n",
       "      <td>6.441867</td>\n",
       "    </tr>\n",
       "    <tr>\n",
       "      <th>4</th>\n",
       "      <td>DummyRegressor</td>\n",
       "      <td>8.119635</td>\n",
       "      <td>8.015021</td>\n",
       "    </tr>\n",
       "  </tbody>\n",
       "</table>\n",
       "</div>"
      ],
      "text/plain": [
       "                  Модель  MAE_train  MAE_test\n",
       "0      CatBoostRegressor   4.167702  6.210703\n",
       "1       LinearRegression   5.941854  6.531638\n",
       "2          LGBMRegressor   3.701508  6.503016\n",
       "3  RandomForestRegressor   3.570341  6.441867\n",
       "4         DummyRegressor   8.119635  8.015021"
      ]
     },
     "execution_count": 612,
     "metadata": {},
     "output_type": "execute_result"
    }
   ],
   "source": [
    "pd.DataFrame(result)"
   ]
  },
  {
   "cell_type": "markdown",
   "metadata": {
    "id": "Hj6wZEWZ1u6g"
   },
   "source": [
    "Наименьшей ошибки на тестовых данных удалось добиться с помощью модели CatBoostRegressor: МАЕ = 6.21.  \n",
    "Проверку на адекватность прошли все модели."
   ]
  },
  {
   "cell_type": "markdown",
   "metadata": {
    "id": "zvcFJF0ndbo4"
   },
   "source": [
    "### Анализ важности факторов"
   ]
  },
  {
   "cell_type": "markdown",
   "metadata": {
    "id": "p8x2xVHidht2"
   },
   "source": [
    "Построим график важности факторов, влияющих на построение предсказаний модели:"
   ]
  },
  {
   "cell_type": "code",
   "execution_count": 613,
   "metadata": {
    "colab": {
     "base_uri": "https://localhost:8080/",
     "height": 592
    },
    "executionInfo": {
     "elapsed": 967,
     "status": "ok",
     "timestamp": 1637657853150,
     "user": {
      "displayName": "LIZA FOX",
      "photoUrl": "https://lh3.googleusercontent.com/a-/AOh14GiROuqSKlugDuMLD2zosy5BB_CwYcn4VtpUBQP5=s64",
      "userId": "17049926938416427493"
     },
     "user_tz": -300
    },
    "id": "BhfLKgI9eCj7",
    "outputId": "e9a0a163-f142-4123-b0e0-ad4c1626ffc8"
   },
   "outputs": [
    {
     "data": {
      "image/png": "[encoded data removed]",
      "text/plain": [
       "<Figure size 1080x720 with 1 Axes>"
      ]
     },
     "metadata": {
      "needs_background": "light"
     },
     "output_type": "display_data"
    }
   ],
   "source": [
    "pd.Series(model_cat_best.feature_importances_, index = features_train.columns).nlargest(len(features_train)).plot(kind='barh', figsize=(15, 10))\n",
    "plt.show()"
   ]
  },
  {
   "cell_type": "markdown",
   "metadata": {
    "id": "250z_SDoevPn"
   },
   "source": [
    "Из графика видим, что наиболее важным для итогового предсказания фактором является первоначальная температура сплава, далее по важности следует активная мощность, немаловажными фактороми также оказались проволочный материал work_1, сыпучий материал bulk_6, полная мощность и работа."
   ]
  },
  {
   "cell_type": "markdown",
   "metadata": {
    "id": "-uC5oqNwWLVi"
   },
   "source": [
    "## Список уточняющих вопросов:"
   ]
  },
  {
   "cell_type": "markdown",
   "metadata": {
    "id": "-WL-ATFpWjnq"
   },
   "source": [
    "1. В результате предварительного анализа получены аномальные значения для таких параметров как объем подаваемого газа, мощности, температуры. Считать ли их допустимыми в ходе технологического процесса (к примеру, энергетический сбой также может повлиять на температуру нагрева сплава) или очистить от них выборку?\n",
    "2. Целевым признаком является конечная температура партии, на сколько важно учитывать влияние начальных и промежуточных значений измерения температуры? К примеру, есть партии, первоначальная температура нагрева смеси которых, значительно меньше 1500. Но из технологического процесса производства стали известно, что первоначально заливается расплавленный чугун, который как раз и имеет температуру порядка 1200-1300."
   ]
  },
  {
   "cell_type": "markdown",
   "metadata": {
    "id": "is29uwFrZJBR"
   },
   "source": [
    "## План"
   ]
  },
  {
   "cell_type": "markdown",
   "metadata": {
    "id": "RJMeoUutZLq1"
   },
   "source": [
    "1. Провести предварительную обработку данных: работа с пропущенными значениями, поиск дубликатов, работа с наименованиями столбцов.\n",
    "2. Провести анализ данных: поиск аномальных значений, проверка данных на адекватность, аггрегирование данных.\n",
    "3. Моделирование: подбор моделей, параметров, оценка качества моделей.\n",
    "4. Многофакторный анализ: ранжирование факторов по степени влияния на предсказание целевого признака.\n",
    "5. Выводы."
   ]
  },
  {
   "cell_type": "markdown",
   "metadata": {},
   "source": [
    "## Вывод"
   ]
  },
  {
   "cell_type": "markdown",
   "metadata": {
    "id": "tGGoYYsIWkQX"
   },
   "source": [
    "В результате проделанной работы осуществлена предварительная обработка данных: обработаны пропущенные значения, выполнен поиск дубликатов, скорректированы наименования столбцов.  \n",
    "Далее выполнен анализ данных:\n",
    "- поиск выбросов с их частичным удалением: удалены партии с первоначальной температурой сплава в районе 1200. Остальные аномалии принято решение не удалять, так как они могут быть в пределах допуска технологического процесса (требуется дополнительное взаиможействие с бизнес-заказчиком);\n",
    "- данные проверены на адекватность: удалены партии, для которых не было финального замера температуры после добавления сыпучего или проволочного материала;\n",
    "- данные проверены на мульиколлениарность: определены сильно коррелирующие друг с другом признаки с последующим удалением одного из них;\n",
    "- выполнено аггрегирование данных, необходимое для дальнейшего моделирования.  \n",
    "В процессе моделирования осуществлено разбиение данных на тренировочную и тестовую выборки, масштабирование признаков. В качестве моделей выбраны:\n",
    "- CatBoostRegressor,\n",
    "- LinearRegression,\n",
    "- LGBMRegressor,\n",
    "- RandomForestRegressor.  \n",
    "Все модели прошли проверку на адекватность с помощью DummyRegressor.  \n",
    "Наименьшую ошибку показала модель CatBoostRegressor с МАЕ = 6,21.  \n",
    "В ходе работы выполнен многофакторын анализ: более всего на предсказание конечной температуры оказывает влияние начальная температура сплава, также сильно влияние мощности электродов, сыпучего материала bulk_6 и проволочного материала wire_1.  \n",
    "Многофакторный анализ показывает, что для оптимизации производсвенных расходов, очень важно проанализировать первоначальную температуру сплва, заливаемого в ковш (возможно, первоначальный сплав имеет недостаточную температуру и требуется больше мощности для его нагрева, что может приводить к издержкам). Также стоит обратить внимание на работу электродов и мощность, которая требуется для нагрева сплава (возможно, что она слишком большая). Особое внимание также хочется обратить на химический состав сыпучего материала bulk_6 и проволоки wire_1: их добавление оказывает довольно сильное воздействие на конечную температуру (возможно, данные материалы приводят к излишнему снижению температуры сплава, что в последсвии требует больших энергозатрат для его нагрева).  "
   ]
  }
 ],
 "metadata": {
  "ExecuteTimeLog": [
   {
    "duration": 121,
    "start_time": "2021-11-23T16:47:16.538Z"
   }
  ],
  "colab": {
   "authorship_tag": "ABX9TyOeSPO4j1EothxyHEZlJQ/O",
   "collapsed_sections": [],
   "name": "3 Steel.ipynb",
   "provenance": [
    {
     "file_id": "1kHC0aEiwAkfJ4IL2LAWJpb8vKifkE2kP",
     "timestamp": 1637476132827
    },
    {
     "file_id": "1HYA08FKb3aCPtiwoK5Sea2J4gq4MsJ2S",
     "timestamp": 1637409690676
    }
   ]
  },
  "kernelspec": {
   "display_name": "Python 3",
   "language": "python",
   "name": "python3"
  },
  "language_info": {
   "codemirror_mode": {
    "name": "ipython",
    "version": 3
   },
   "file_extension": ".py",
   "mimetype": "text/x-python",
   "name": "python",
   "nbconvert_exporter": "python",
   "pygments_lexer": "ipython3",
   "version": "3.8.8"
  },
  "toc": {
   "base_numbering": 1,
   "nav_menu": {},
   "number_sections": true,
   "sideBar": true,
   "skip_h1_title": true,
   "title_cell": "Table of Contents",
   "title_sidebar": "Contents",
   "toc_cell": false,
   "toc_position": {},
   "toc_section_display": true,
   "toc_window_display": false
  }
 },
 "nbformat": 4,
 "nbformat_minor": 1
}
